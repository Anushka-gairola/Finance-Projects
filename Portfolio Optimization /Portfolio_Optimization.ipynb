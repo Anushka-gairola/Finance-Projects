{
 "cells": [
  {
   "cell_type": "markdown",
   "metadata": {},
   "source": [
    "# *Portfolio Optimization Project Using Modern Portfolio Theory (MPT) and Markowitz Model"
   ]
  },
  {
   "cell_type": "markdown",
   "metadata": {},
   "source": [
    "Goal: Constructing a moderately aggressive, risk-aware portfolio for a long-term investor seeking stable returns with exposure to growth."
   ]
  },
  {
   "cell_type": "markdown",
   "metadata": {},
   "source": [
    "Importing Required liabraries "
   ]
  },
  {
   "cell_type": "code",
   "execution_count": 56,
   "metadata": {},
   "outputs": [],
   "source": [
    "from alpha_vantage.timeseries import TimeSeries\n",
    "import pandas as pd\n",
    "from datetime import datetime, timedelta\n",
    "import numpy as np\n",
    "from scipy.optimize import minimize\n",
    "import time  # for handling rate limits\n",
    "\n"
   ]
  },
  {
   "cell_type": "code",
   "execution_count": 58,
   "metadata": {},
   "outputs": [
    {
     "name": "stdout",
     "output_type": "stream",
     "text": [
      "Name: alpha_vantage\n",
      "Version: 3.0.0\n",
      "Summary: Python module to get stock data from the Alpha Vantage Api\n",
      "Home-page: https://github.com/RomelTorres/alpha_vantage\n",
      "Author: Romel J. Torres\n",
      "Author-email: romel.torres@gmail.com\n",
      "License: MIT\n",
      "Location: /opt/anaconda3/lib/python3.12/site-packages\n",
      "Requires: aiohttp, requests\n",
      "Required-by: \n"
     ]
    }
   ],
   "source": [
    "!pip show alpha_vantage"
   ]
  },
  {
   "cell_type": "markdown",
   "metadata": {},
   "source": [
    "# Section 1: Defining Tickers and Time Range "
   ]
  },
  {
   "cell_type": "code",
   "execution_count": 59,
   "metadata": {},
   "outputs": [],
   "source": [
    "#Defining the list of tickers for my choosen asstes (EFTs+Stocks)\n",
    "tickers = [\"SPY\", \"AGG\", \"EFA\", \"MSFT\", \"JPM\", \"NVDA\", \"JNJ\", \"PG\"]"
   ]
  },
  {
   "cell_type": "code",
   "execution_count": 60,
   "metadata": {},
   "outputs": [],
   "source": [
    "#Setting the end date to today\n",
    "end_date = datetime.today()"
   ]
  },
  {
   "cell_type": "code",
   "execution_count": 103,
   "metadata": {},
   "outputs": [
    {
     "name": "stdout",
     "output_type": "stream",
     "text": [
      "2020-08-12 14:42:50.311250\n"
     ]
    }
   ],
   "source": [
    "#Setting the start date to 5 years ago\n",
    "start_date= end_date - timedelta(days = 5*365)\n",
    "print(start_date)"
   ]
  },
  {
   "cell_type": "code",
   "execution_count": 104,
   "metadata": {},
   "outputs": [],
   "source": [
    "api_key = 'OJ8Y2GIWOSA9HYQ8' \n",
    "\n",
    "# Initialize Alpha Vantage\n",
    "ts = TimeSeries(key=api_key, output_format='pandas')\n"
   ]
  },
  {
   "cell_type": "markdown",
   "metadata": {},
   "source": [
    "# Section 2: Downloading adjusted close price "
   ]
  },
  {
   "cell_type": "code",
   "execution_count": 105,
   "metadata": {},
   "outputs": [],
   "source": [
    "#Downnloading close price for all tickers at once\n",
    "adj_close_df = pd.DataFrame()"
   ]
  },
  {
   "cell_type": "code",
   "execution_count": 110,
   "metadata": {},
   "outputs": [],
   "source": [
    "def get_daily_data(ticker):\n",
    "    # This is the free endpoint\n",
    "    data, _ = ts.get_daily(symbol=ticker, outputsize='full')\n",
    "    # Use the '4. close' column for the closing price\n",
    "    return data['4. close']"
   ]
  },
  {
   "cell_type": "code",
   "execution_count": null,
   "metadata": {},
   "outputs": [],
   "source": [
    "\n",
    "\n",
    "for ticker in tickers:\n",
    "    try:\n",
    "        adj_close_df[ticker] = get_daily_data(ticker)\n",
    "        time.sleep(12)  # Rate limiting\n",
    "    except Exception as e:\n",
    "        print(f\"Error with {ticker}: {str(e)}\")\n",
    "        continue\n",
    "\n",
    "print(adj_close_df.dropna())"
   ]
  },
  {
   "cell_type": "code",
   "execution_count": 112,
   "metadata": {},
   "outputs": [
    {
     "name": "stdout",
     "output_type": "stream",
     "text": [
      "                 SPY    AGG  EFA  MSFT  JPM\n",
      "date                                       \n",
      "2025-08-08  637.1800  98.94  NaN   NaN  NaN\n",
      "2025-08-07  632.2500  99.13  NaN   NaN  NaN\n",
      "2025-08-06  632.7800  99.21  NaN   NaN  NaN\n",
      "2025-08-05  627.9700  99.25  NaN   NaN  NaN\n",
      "2025-08-04  631.1700  99.22  NaN   NaN  NaN\n",
      "...              ...    ...  ...   ...  ...\n",
      "1999-11-05  137.8750    NaN  NaN   NaN  NaN\n",
      "1999-11-04  136.5312    NaN  NaN   NaN  NaN\n",
      "1999-11-03  135.5000    NaN  NaN   NaN  NaN\n",
      "1999-11-02  134.5937    NaN  NaN   NaN  NaN\n",
      "1999-11-01  135.5625    NaN  NaN   NaN  NaN\n",
      "\n",
      "[6482 rows x 5 columns]\n"
     ]
    }
   ],
   "source": [
    "#displaying data frame\n",
    "print(adj_close_df)"
   ]
  },
  {
   "cell_type": "markdown",
   "metadata": {},
   "source": [
    "# Section 3: Calculating Lognormal Returns"
   ]
  },
  {
   "cell_type": "code",
   "execution_count": 66,
   "metadata": {},
   "outputs": [],
   "source": [
    "#Calculating lognormal returns for each ticker \n",
    "\n",
    "price_ratio = adj_close_df / adj_close_df.shift(1)  \n",
    "log_return = np.log(price_ratio)"
   ]
  },
  {
   "cell_type": "markdown",
   "metadata": {},
   "source": [
    "Dropping any Mssing Values "
   ]
  },
  {
   "cell_type": "code",
   "execution_count": 67,
   "metadata": {},
   "outputs": [],
   "source": [
    "log_return=log_return.dropna()"
   ]
  },
  {
   "cell_type": "markdown",
   "metadata": {},
   "source": [
    "# Section 4 : Calculate Covariance Matrix "
   ]
  },
  {
   "cell_type": "code",
   "execution_count": 68,
   "metadata": {},
   "outputs": [
    {
     "name": "stdout",
     "output_type": "stream",
     "text": [
      "           SPY       AGG       EFA      MSFT       JPM      NVDA       JNJ  \\\n",
      "SPY   0.035561 -0.000139  0.034479  0.036607  0.047707  0.054981  0.018205   \n",
      "AGG  -0.000139  0.002844  0.000233 -0.000063 -0.002383 -0.000049 -0.000080   \n",
      "EFA   0.034479  0.000233  0.099294  0.034080  0.048408  0.050519  0.017902   \n",
      "MSFT  0.036607 -0.000063  0.034080  0.071737  0.042030  0.065916  0.017884   \n",
      "JPM   0.047707 -0.002383  0.048408  0.042030  0.123361  0.060320  0.022530   \n",
      "NVDA  0.054981 -0.000049  0.050519  0.065916  0.060320  0.607001  0.017129   \n",
      "JNJ   0.018205 -0.000080  0.017902  0.017884  0.022530  0.017129  0.029488   \n",
      "PG    0.019447  0.000050  0.019243  0.019747  0.024137  0.021301  0.016784   \n",
      "\n",
      "            PG  \n",
      "SPY   0.019447  \n",
      "AGG   0.000050  \n",
      "EFA   0.019243  \n",
      "MSFT  0.019747  \n",
      "JPM   0.024137  \n",
      "NVDA  0.021301  \n",
      "JNJ   0.016784  \n",
      "PG    0.053938  \n"
     ]
    }
   ],
   "source": [
    "# Calculating covariance \n",
    "cov_matrix = log_return.cov()*252\n",
    "print(cov_matrix)"
   ]
  },
  {
   "cell_type": "markdown",
   "metadata": {},
   "source": [
    "Confirming log vs. simple return differences are negligible (<0.01%)"
   ]
  },
  {
   "cell_type": "code",
   "execution_count": 70,
   "metadata": {},
   "outputs": [
    {
     "name": "stdout",
     "output_type": "stream",
     "text": [
      "Difference (%):\n",
      " SPY    -0.010286\n",
      "AGG     0.000180\n",
      "EFA    -0.002844\n",
      "MSFT   -0.034507\n",
      "JPM    -0.023798\n",
      "NVDA   -0.108841\n",
      "JNJ    -0.021552\n",
      "PG     -0.006989\n",
      "dtype: float64\n",
      "[WARNING] Large return-type differences detected for: []\n"
     ]
    },
    {
     "name": "stderr",
     "output_type": "stream",
     "text": [
      "/var/folders/yw/t9jz6sd55w71t2th98wmv_180000gn/T/ipykernel_1688/3060059575.py:4: FutureWarning: The default fill_method='pad' in DataFrame.pct_change is deprecated and will be removed in a future version. Either fill in any non-leading NA values prior to calling pct_change or specify 'fill_method=None' to not fill NA values.\n",
      "  simple_means = adj_close_df.pct_change().mean()\n"
     ]
    }
   ],
   "source": [
    "# Validating Return Type Assumptions\n",
    "\n",
    "log_means = log_return.mean()\n",
    "simple_means = adj_close_df.pct_change().mean()\n",
    "\n",
    "# Comparing differences\n",
    "difference = (np.exp(log_means + 0.5*log_return.var()) - 1) - simple_means\n",
    "print(\"Difference (%):\\n\", difference * 100)  # Convert to percentage\n",
    "\n",
    "if (abs(difference) > 0.0001).any():  # If any difference > 0.01%\n",
    "    print(\"[WARNING] Large return-type differences detected for:\", \n",
    "          difference[difference > 0.0001].index.tolist())\n",
    "else:\n",
    "    print(\"Validation passed: return-type differences < 0.01%\")\n"
   ]
  },
  {
   "cell_type": "markdown",
   "metadata": {},
   "source": [
    "# Section 5: Defining Portfolio Performance Metrics "
   ]
  },
  {
   "cell_type": "code",
   "execution_count": 71,
   "metadata": {},
   "outputs": [],
   "source": [
    "#calculating the portfolio standard deviation\n",
    "\n",
    "def standard_deviation (weights, cov_matrix):\n",
    "    \"\"\"Annualized portfolio volatility (standard deviation).\"\"\"\n",
    "    variance = weights.T @cov_matrix @weights\n",
    "    return np.sqrt(variance)"
   ]
  },
  {
   "cell_type": "code",
   "execution_count": 72,
   "metadata": {},
   "outputs": [],
   "source": [
    "#calculating the expected portfolio return\n",
    "def expected_return (weights, log_return):\n",
    "    \"\"\"Annualized expected portfolio return.\"\"\"\n",
    "    return np.sum(log_return.mean()*weights)*252"
   ]
  },
  {
   "cell_type": "code",
   "execution_count": 75,
   "metadata": {},
   "outputs": [],
   "source": [
    "# calculating sharpe ratio \n",
    "\n",
    "def sharpe_ratio(weights, log_return, cov_matrix, risk_free_rate):\n",
    "    \"\"\"Risk-adjusted return metric (higher = better).\"\"\"\n",
    "    er = expected_return(weights, log_return)\n",
    "    sd = standard_deviation(weights, cov_matrix)\n",
    "    return (er - risk_free_rate) / sd"
   ]
  },
  {
   "cell_type": "code",
   "execution_count": 90,
   "metadata": {},
   "outputs": [
    {
     "name": "stdout",
     "output_type": "stream",
     "text": [
      "Risk-Free Rate: 0.0427\n"
     ]
    }
   ],
   "source": [
    "risk_free_rate = 0.0427 # Set the rate as a decimal.\n",
    "print(f\"Risk-Free Rate: {risk_free_rate}\")"
   ]
  },
  {
   "cell_type": "code",
   "execution_count": 91,
   "metadata": {},
   "outputs": [
    {
     "name": "stdout",
     "output_type": "stream",
     "text": [
      "Test Sharpe Ratio: -0.54\n"
     ]
    }
   ],
   "source": [
    "test_weights = np.array([1/len(tickers)] * len(tickers))\n",
    "print(f\"Test Sharpe Ratio: {sharpe_ratio(test_weights, log_return, cov_matrix, risk_free_rate):.2f}\")"
   ]
  },
  {
   "cell_type": "markdown",
   "metadata": {},
   "source": [
    "# Section 6: Portfolio Optimization "
   ]
  },
  {
   "cell_type": "markdown",
   "metadata": {},
   "source": [
    "Setting the risk- free rate "
   ]
  },
  {
   "cell_type": "code",
   "execution_count": 92,
   "metadata": {},
   "outputs": [],
   "source": [
    "# Defining the function to mimimize (negative sharpe ratio)\n",
    "def negative_sharpe_ratio(weights, log_return, cov_matrix, risk_free_rate):\n",
    "    \"\"\"Negative Sharpe ratio for minimization\"\"\"\n",
    "    return -sharpe_ratio(weights, log_return, cov_matrix, risk_free_rate)"
   ]
  },
  {
   "cell_type": "code",
   "execution_count": 93,
   "metadata": {},
   "outputs": [],
   "source": [
    "#Setting the constarint bounds for optimization\n",
    "\n",
    "# RULE 1: Weights must sum to 100% (no leftover cash)\n",
    "\n",
    "constraints = [ # Sum of weights = 100% (fully invested)\n",
    "               {'type':'eq','fun': lambda weights: np.sum(weights)-1},\n",
    "\n",
    "               # Tech sector (NVDA + MSFT) < 30% of portfolio\n",
    "               {'type': 'ineq', 'fun': lambda weights: 0.3 - (weights[tickers.index(\"NVDA\")] + weights[tickers.index(\"MSFT\")])}\n",
    "]\n",
    "\n",
    "\n",
    "# Bounds: No asset <5% or >20% (diversification rule)\n",
    "bounds = [(0.05, 0.20) for _ in range(len(tickers))]\n"
   ]
  },
  {
   "cell_type": "code",
   "execution_count": 94,
   "metadata": {},
   "outputs": [
    {
     "name": "stdout",
     "output_type": "stream",
     "text": [
      "[0.125 0.125 0.125 0.125 0.125 0.125 0.125 0.125]\n"
     ]
    }
   ],
   "source": [
    "#setting initial weights \n",
    "\n",
    "initial_weights = np.array([1/len(tickers)]*len(tickers))\n",
    "print(initial_weights)"
   ]
  },
  {
   "cell_type": "code",
   "execution_count": 95,
   "metadata": {},
   "outputs": [
    {
     "name": "stdout",
     "output_type": "stream",
     "text": [
      "Individual weights: [0.125 0.125 0.125 0.125 0.125 0.125 0.125 0.125]\n",
      "Sum of weights: 1.0\n"
     ]
    }
   ],
   "source": [
    "\n",
    "print(\"Individual weights:\", initial_weights)  # Should show [0.125, 0.125, ...] for 8 tickers\n",
    "print(\"Sum of weights:\", np.sum(initial_weights))  # Must be 1.0"
   ]
  },
  {
   "cell_type": "markdown",
   "metadata": {},
   "source": [
    "Comparing to Benchmarks "
   ]
  },
  {
   "cell_type": "code",
   "execution_count": 96,
   "metadata": {},
   "outputs": [],
   "source": [
    "#Calculating equal-weighted performance for comparison\n",
    "\n",
    "equal_weights = np.array([1/len(tickers)]*len(tickers))\n",
    "equal_return = expected_return(equal_weights, log_return)\n",
    "equal_vol = standard_deviation(equal_weights, cov_matrix)\n",
    "equal_sharpe = sharpe_ratio(equal_weights, log_return, cov_matrix, risk_free_rate)"
   ]
  },
  {
   "cell_type": "code",
   "execution_count": 97,
   "metadata": {},
   "outputs": [],
   "source": [
    "#Optimize the weight to maximise Sharpe Ratio\n",
    "optimized_results=minimize(negative_sharpe_ratio,initial_weights, args= (log_return,cov_matrix,risk_free_rate),method='SLSQP',constraints=constraints,bounds=bounds)"
   ]
  },
  {
   "cell_type": "code",
   "execution_count": 98,
   "metadata": {},
   "outputs": [],
   "source": [
    "#Getting Optimial weights \n",
    "optimal_weights = optimized_results.x"
   ]
  },
  {
   "cell_type": "markdown",
   "metadata": {},
   "source": [
    "# Section 7: Analyze the optimal Portfolio "
   ]
  },
  {
   "cell_type": "code",
   "execution_count": 101,
   "metadata": {},
   "outputs": [
    {
     "name": "stdout",
     "output_type": "stream",
     "text": [
      "optimal_weights:\n",
      "SPY: 5.00%\n",
      "AGG: 20.00%\n",
      "EFA: 20.00%\n",
      "MSFT: 5.00%\n",
      "JPM: 5.00%\n",
      "NVDA: 20.00%\n",
      "JNJ: 5.00%\n",
      "PG: 20.00%\n",
      "\n",
      "Expected Annual Return : -0.0426\n",
      "Expected Volatility:  0.2182\n",
      "Sharpe Ratio : -0.3908\n"
     ]
    }
   ],
   "source": [
    "# Print optimal weights\n",
    "print('optimal_weights:')\n",
    "for ticker,weight in zip(tickers,optimal_weights):\n",
    "    print(f'{ticker}:{weight: .2%}')\n",
    "\n",
    "print()\n",
    "optimal_portfolio_return= expected_return(optimal_weights,log_return)\n",
    "optimal_portfolio_volatility= standard_deviation(optimal_weights,cov_matrix)\n",
    "optimal_sharpe_ratio= sharpe_ratio(optimal_weights,log_return,cov_matrix,risk_free_rate)\n",
    "\n",
    "print(f\"Expected Annual Return : {optimal_portfolio_return: .4f}\")\n",
    "print(f\"Expected Volatility: {optimal_portfolio_volatility: .4f}\")\n",
    "print(f\"Sharpe Ratio : {optimal_sharpe_ratio: .4f}\")"
   ]
  },
  {
   "cell_type": "markdown",
   "metadata": {},
   "source": [
    "# Section 7:  Visualization "
   ]
  },
  {
   "cell_type": "code",
   "execution_count": 100,
   "metadata": {},
   "outputs": [
    {
     "data": {
      "image/png": "[encoded data removed]",
      "text/plain": [
       "<Figure size 1000x600 with 1 Axes>"
      ]
     },
     "metadata": {},
     "output_type": "display_data"
    }
   ],
   "source": [
    "#Displaying the final portfolio graphically \n",
    "\n",
    "\n",
    "#importing required liabrary\n",
    "import matplotlib.pyplot as plt \n",
    "\n",
    "#creating a vbar chart of optimal weights \n",
    "plt.figure(figsize=(10,6))\n",
    "plt.bar(tickers,optimal_weights)\n",
    "\n",
    "#Add labels and a title \n",
    "plt.xlabel('Assets')\n",
    "plt.ylabel('optimal weights')\n",
    "plt.title(\"Optimal Portfolio Weights\")\n",
    "\n",
    "#Display \n",
    "plt.show()\n",
    "\n",
    " \n"
   ]
  }
 ],
 "metadata": {
  "kernelspec": {
   "display_name": "base",
   "language": "python",
   "name": "python3"
  },
  "language_info": {
   "codemirror_mode": {
    "name": "ipython",
    "version": 3
   },
   "file_extension": ".py",
   "mimetype": "text/x-python",
   "name": "python",
   "nbconvert_exporter": "python",
   "pygments_lexer": "ipython3",
   "version": "3.12.2"
  }
 },
 "nbformat": 4,
 "nbformat_minor": 2
}
