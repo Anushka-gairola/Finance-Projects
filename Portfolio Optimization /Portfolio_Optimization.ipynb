{
 "cells": [
  {
   "cell_type": "markdown",
   "metadata": {},
   "source": [
    "# *Portfolio Optimization Project Using Modern Portfolio Theory (MPT) and Markowitz Model"
   ]
  },
  {
   "cell_type": "markdown",
   "metadata": {},
   "source": [
    "Goal: Constructing a moderately aggressive, risk-aware portfolio for a long-term investor seeking stable returns with exposure to growth."
   ]
  },
  {
   "cell_type": "markdown",
   "metadata": {},
   "source": [
    "Importing Required liabraries "
   ]
  },
  {
   "cell_type": "code",
   "execution_count": 1,
   "metadata": {},
   "outputs": [],
   "source": [
    "\n",
    "import yfinance as yf\n",
    "import pandas as pd\n",
    "from datetime import datetime, timedelta\n",
    "import numpy as np\n",
    "from scipy.optimize import minimize\n",
    "import time  # for handling rate limits\n",
    "\n"
   ]
  },
  {
   "cell_type": "markdown",
   "metadata": {},
   "source": [
    "# Section 1: Defining Tickers and Time Range "
   ]
  },
  {
   "cell_type": "code",
   "execution_count": 2,
   "metadata": {},
   "outputs": [],
   "source": [
    "#Defining the list of tickers for my choosen asstes (EFTs+Stocks)\n",
    "tickers = [\"SPY\", \"AGG\", \"EFA\", \"MSFT\", \"JPM\", \"NVDA\", \"JNJ\", \"PG\"]"
   ]
  },
  {
   "cell_type": "code",
   "execution_count": 3,
   "metadata": {},
   "outputs": [],
   "source": [
    "#Setting the end date to today\n",
    "end_date = datetime.today()"
   ]
  },
  {
   "cell_type": "code",
   "execution_count": 4,
   "metadata": {},
   "outputs": [
    {
     "name": "stdout",
     "output_type": "stream",
     "text": [
      "2020-10-07 14:36:22.611366\n"
     ]
    }
   ],
   "source": [
    "#Setting the start date to 5 years ago\n",
    "start_date= end_date - timedelta(days = 5*365)\n",
    "print(start_date)"
   ]
  },
  {
   "cell_type": "markdown",
   "metadata": {},
   "source": [
    "# Section 2: Downloading adjusted close price "
   ]
  },
  {
   "cell_type": "code",
   "execution_count": 5,
   "metadata": {},
   "outputs": [],
   "source": [
    "#Downnloading close price for all tickers at once\n",
    "adj_close_df = pd.DataFrame()"
   ]
  },
  {
   "cell_type": "code",
   "execution_count": 6,
   "metadata": {},
   "outputs": [
    {
     "name": "stdout",
     "output_type": "stream",
     "text": [
      "Requirement already satisfied: pandas-datareader in /opt/anaconda3/lib/python3.12/site-packages (0.10.0)\n",
      "Requirement already satisfied: lxml in /opt/anaconda3/lib/python3.12/site-packages (from pandas-datareader) (5.2.1)\n",
      "Requirement already satisfied: pandas>=0.23 in /opt/anaconda3/lib/python3.12/site-packages (from pandas-datareader) (2.2.2)\n",
      "Requirement already satisfied: requests>=2.19.0 in /opt/anaconda3/lib/python3.12/site-packages (from pandas-datareader) (2.32.3)\n",
      "Requirement already satisfied: numpy>=1.26.0 in /opt/anaconda3/lib/python3.12/site-packages (from pandas>=0.23->pandas-datareader) (1.26.4)\n",
      "Requirement already satisfied: python-dateutil>=2.8.2 in /opt/anaconda3/lib/python3.12/site-packages (from pandas>=0.23->pandas-datareader) (2.9.0.post0)\n",
      "Requirement already satisfied: pytz>=2020.1 in /opt/anaconda3/lib/python3.12/site-packages (from pandas>=0.23->pandas-datareader) (2024.1)\n",
      "Requirement already satisfied: tzdata>=2022.7 in /opt/anaconda3/lib/python3.12/site-packages (from pandas>=0.23->pandas-datareader) (2023.3)\n",
      "Requirement already satisfied: charset-normalizer<4,>=2 in /opt/anaconda3/lib/python3.12/site-packages (from requests>=2.19.0->pandas-datareader) (3.3.2)\n",
      "Requirement already satisfied: idna<4,>=2.5 in /opt/anaconda3/lib/python3.12/site-packages (from requests>=2.19.0->pandas-datareader) (3.7)\n",
      "Requirement already satisfied: urllib3<3,>=1.21.1 in /opt/anaconda3/lib/python3.12/site-packages (from requests>=2.19.0->pandas-datareader) (1.26.19)\n",
      "Requirement already satisfied: certifi>=2017.4.17 in /opt/anaconda3/lib/python3.12/site-packages (from requests>=2.19.0->pandas-datareader) (2025.8.3)\n",
      "Requirement already satisfied: six>=1.5 in /opt/anaconda3/lib/python3.12/site-packages (from python-dateutil>=2.8.2->pandas>=0.23->pandas-datareader) (1.16.0)\n"
     ]
    }
   ],
   "source": [
    "!pip install pandas-datareader"
   ]
  },
  {
   "cell_type": "code",
   "execution_count": 7,
   "metadata": {},
   "outputs": [
    {
     "name": "stderr",
     "output_type": "stream",
     "text": [
      "[*********************100%***********************]  1 of 1 completed\n",
      "[*********************100%***********************]  1 of 1 completed\n",
      "[*********************100%***********************]  1 of 1 completed\n",
      "[*********************100%***********************]  1 of 1 completed\n",
      "[*********************100%***********************]  1 of 1 completed\n",
      "[*********************100%***********************]  1 of 1 completed\n",
      "[*********************100%***********************]  1 of 1 completed\n",
      "[*********************100%***********************]  1 of 1 completed\n"
     ]
    }
   ],
   "source": [
    "for ticker in tickers:\n",
    "    data = yf.download(ticker, start=start_date, end=end_date,  auto_adjust=False)\n",
    "    adj_close_df[ticker]=data[\"Adj Close\"]\n",
    "    "
   ]
  },
  {
   "cell_type": "code",
   "execution_count": 8,
   "metadata": {},
   "outputs": [
    {
     "name": "stdout",
     "output_type": "stream",
     "text": [
      "                   SPY         AGG        EFA        MSFT         JPM  \\\n",
      "Date                                                                    \n",
      "2020-10-07  317.677246  101.870865  55.868362  201.190353   88.016106   \n",
      "2020-10-08  320.492645  102.000885  56.256813  201.909485   89.825302   \n",
      "2020-10-09  323.354614  102.026878  56.697056  206.924088   89.313431   \n",
      "2020-10-12  328.556580  102.226212  57.025089  212.283920   90.407799   \n",
      "2020-10-13  326.412476  102.252220  56.386299  213.683838   88.942772   \n",
      "...                ...         ...        ...         ...         ...   \n",
      "2025-09-30  666.179993   99.925003  93.370003  517.950012  315.429993   \n",
      "2025-10-01  668.450012  100.180000  94.139999  519.710022  310.709991   \n",
      "2025-10-02  669.219971  100.290001  94.290001  515.739990  307.549988   \n",
      "2025-10-03  669.210022  100.180000  95.080002  517.349976  310.029999   \n",
      "2025-10-06  670.869995  100.010002  95.315002  521.859985  311.059998   \n",
      "\n",
      "                  NVDA         JNJ          PG  \n",
      "Date                                            \n",
      "2020-10-07   13.921505  128.222641  124.332680  \n",
      "2020-10-08   13.796638  129.098373  125.172165  \n",
      "2020-10-09   13.720863  130.901917  126.294441  \n",
      "2020-10-12   14.182708  131.656281  127.681831  \n",
      "2020-10-13   14.204886  128.638840  127.434364  \n",
      "...                ...         ...         ...  \n",
      "2025-09-30  186.580002  185.419998  153.649994  \n",
      "2025-10-01  187.240005  186.050003  153.179993  \n",
      "2025-10-02  188.889999  185.979996  152.050003  \n",
      "2025-10-03  187.619995  188.639999  152.270004  \n",
      "2025-10-06  185.330002  188.850006  151.740005  \n",
      "\n",
      "[1255 rows x 8 columns]\n"
     ]
    }
   ],
   "source": [
    "#displaying data frame\n",
    "print(adj_close_df)"
   ]
  },
  {
   "cell_type": "code",
   "execution_count": 9,
   "metadata": {},
   "outputs": [
    {
     "name": "stdout",
     "output_type": "stream",
     "text": [
      "Data saved to adj_close_prices.csv\n"
     ]
    }
   ],
   "source": [
    "# Section 3: Save Adjusted Close Prices to CSV\n",
    "output_file = \"adj_close_prices.csv\"\n",
    "adj_close_df.to_csv(output_file)\n",
    "\n",
    "print(f\"Data saved to {output_file}\")"
   ]
  },
  {
   "cell_type": "code",
   "execution_count": 10,
   "metadata": {},
   "outputs": [],
   "source": [
    "# Loading the saved CSV file\n",
    "adj_close_df = pd.read_csv(\"adj_close_prices.csv\", index_col=0, parse_dates=True)"
   ]
  },
  {
   "cell_type": "markdown",
   "metadata": {},
   "source": [
    "# Section 3: Calculating Lognormal Returns"
   ]
  },
  {
   "cell_type": "code",
   "execution_count": 11,
   "metadata": {},
   "outputs": [],
   "source": [
    "#Calculating lognormal returns for each ticker \n",
    "\n",
    "price_ratio = adj_close_df / adj_close_df.shift(1)  \n",
    "log_return = np.log(price_ratio)"
   ]
  },
  {
   "cell_type": "markdown",
   "metadata": {},
   "source": [
    "Dropping any Mssing Values "
   ]
  },
  {
   "cell_type": "code",
   "execution_count": 12,
   "metadata": {},
   "outputs": [],
   "source": [
    "log_return=log_return.dropna()"
   ]
  },
  {
   "cell_type": "markdown",
   "metadata": {},
   "source": [
    "# Section 4 : Calculate Covariance Matrix "
   ]
  },
  {
   "cell_type": "code",
   "execution_count": 13,
   "metadata": {},
   "outputs": [
    {
     "name": "stdout",
     "output_type": "stream",
     "text": [
      "           SPY       AGG       EFA      MSFT       JPM      NVDA       JNJ  \\\n",
      "SPY   0.029567  0.002033  0.022492  0.034009  0.026576  0.061894  0.007155   \n",
      "AGG   0.002033  0.003676  0.002354  0.002533 -0.000887  0.003828  0.001362   \n",
      "EFA   0.022492  0.002354  0.026452  0.022531  0.022844  0.042971  0.006896   \n",
      "MSFT  0.034009  0.002533  0.022531  0.067228  0.019456  0.085578  0.004154   \n",
      "JPM   0.026576 -0.000887  0.022844  0.019456  0.063152  0.037368  0.009288   \n",
      "NVDA  0.061894  0.003828  0.042971  0.085578  0.037368  0.268497 -0.007654   \n",
      "JNJ   0.007155  0.001362  0.006896  0.004154  0.009288 -0.007654  0.028447   \n",
      "PG    0.009998  0.001857  0.008663  0.010321  0.007494  0.003053  0.013278   \n",
      "\n",
      "            PG  \n",
      "SPY   0.009998  \n",
      "AGG   0.001857  \n",
      "EFA   0.008663  \n",
      "MSFT  0.010321  \n",
      "JPM   0.007494  \n",
      "NVDA  0.003053  \n",
      "JNJ   0.013278  \n",
      "PG    0.029751  \n"
     ]
    }
   ],
   "source": [
    "# Calculating covariance \n",
    "cov_matrix = log_return.cov()*252\n",
    "print(cov_matrix)"
   ]
  },
  {
   "cell_type": "markdown",
   "metadata": {},
   "source": [
    "Confirming log vs. simple return differences are negligible (<0.01%)"
   ]
  },
  {
   "cell_type": "code",
   "execution_count": 14,
   "metadata": {},
   "outputs": [
    {
     "name": "stdout",
     "output_type": "stream",
     "text": [
      "Difference (%):\n",
      " SPY     1.860367e-06\n",
      "AGG     5.196207e-07\n",
      "EFA     2.485646e-06\n",
      "MSFT    4.704860e-06\n",
      "JPM    -1.941122e-05\n",
      "NVDA   -1.029621e-04\n",
      "JNJ     5.987116e-06\n",
      "PG      1.748114e-05\n",
      "dtype: float64\n",
      "Validation passed: return-type differences < 0.01%\n"
     ]
    }
   ],
   "source": [
    "# Validating Return Type Assumptions\n",
    "\n",
    "log_means = log_return.mean()\n",
    "simple_means = adj_close_df.pct_change().mean()\n",
    "\n",
    "# Comparing differences\n",
    "difference = (np.exp(log_means + 0.5*log_return.var()) - 1) - simple_means\n",
    "print(\"Difference (%):\\n\", difference * 100)  # Convert to percentage\n",
    "\n",
    "if (abs(difference) > 0.0001).any():  # If any difference > 0.01%\n",
    "    print(\"[WARNING] Large return-type differences detected for:\", \n",
    "          difference[difference > 0.0001].index.tolist())\n",
    "else:\n",
    "    print(\"Validation passed: return-type differences < 0.01%\")\n"
   ]
  },
  {
   "cell_type": "markdown",
   "metadata": {},
   "source": [
    "# Section 5: Defining Portfolio Performance Metrics "
   ]
  },
  {
   "cell_type": "code",
   "execution_count": 15,
   "metadata": {},
   "outputs": [],
   "source": [
    "#calculating the portfolio standard deviation\n",
    "\n",
    "def standard_deviation (weights, cov_matrix):\n",
    "    \"\"\"Annualized portfolio volatility (standard deviation).\"\"\"\n",
    "    variance = weights.T @cov_matrix @weights\n",
    "    return np.sqrt(variance)"
   ]
  },
  {
   "cell_type": "code",
   "execution_count": 16,
   "metadata": {},
   "outputs": [],
   "source": [
    "#calculating the expected portfolio return\n",
    "def expected_return (weights, log_return):\n",
    "    \"\"\"Annualized expected portfolio return.\"\"\"\n",
    "    return np.sum(log_return.mean()*weights)*252"
   ]
  },
  {
   "cell_type": "code",
   "execution_count": 17,
   "metadata": {},
   "outputs": [],
   "source": [
    "# calculating sharpe ratio \n",
    "\n",
    "def sharpe_ratio(weights, log_return, cov_matrix, risk_free_rate):\n",
    "    \"\"\"Risk-adjusted return metric (higher = better).\"\"\"\n",
    "    er = expected_return(weights, log_return)\n",
    "    sd = standard_deviation(weights, cov_matrix)\n",
    "    return (er - risk_free_rate) / sd"
   ]
  },
  {
   "cell_type": "code",
   "execution_count": 18,
   "metadata": {},
   "outputs": [
    {
     "name": "stdout",
     "output_type": "stream",
     "text": [
      "Risk-Free Rate: 0.041579999923706056\n"
     ]
    }
   ],
   "source": [
    "# Get current 10-year Treasury yield (risk-free proxy)\n",
    "\n",
    "treasury = yf.Ticker(\"^TNX\") #fetching 10 year US treasury yeild\n",
    "\n",
    "risk_free_rate = treasury.history(period=\"1d\")['Close'].iloc[-1]/100 # Convert % to decimal\n",
    "\n",
    "print(f\"Risk-Free Rate: {risk_free_rate}\")"
   ]
  },
  {
   "cell_type": "code",
   "execution_count": 19,
   "metadata": {},
   "outputs": [
    {
     "name": "stdout",
     "output_type": "stream",
     "text": [
      "Test Sharpe Ratio: 0.84\n"
     ]
    }
   ],
   "source": [
    "test_weights = np.array([1/len(tickers)] * len(tickers))\n",
    "print(f\"Test Sharpe Ratio: {sharpe_ratio(test_weights, log_return, cov_matrix, risk_free_rate):.2f}\")"
   ]
  },
  {
   "cell_type": "markdown",
   "metadata": {},
   "source": [
    "# Section 6: Portfolio Optimization "
   ]
  },
  {
   "cell_type": "code",
   "execution_count": 20,
   "metadata": {},
   "outputs": [],
   "source": [
    "# Defining the function to mimimize (negative sharpe ratio)\n",
    "def negative_sharpe_ratio(weights, log_return, cov_matrix, risk_free_rate):\n",
    "    \"\"\"Negative Sharpe ratio for minimization\"\"\"\n",
    "    return -sharpe_ratio(weights, log_return, cov_matrix, risk_free_rate)"
   ]
  },
  {
   "cell_type": "code",
   "execution_count": 21,
   "metadata": {},
   "outputs": [],
   "source": [
    "#Setting the constarint bounds for optimization\n",
    "\n",
    "# RULE 1: Weights must sum to 100% (no leftover cash)\n",
    "\n",
    "constraints = [ # Sum of weights = 100% (fully invested)\n",
    "               {'type':'eq','fun': lambda weights: np.sum(weights)-1},\n",
    "\n",
    "               # Tech sector (NVDA + MSFT) < 30% of portfolio\n",
    "               {'type': 'ineq', 'fun': lambda weights: 0.3 - (weights[tickers.index(\"NVDA\")] + weights[tickers.index(\"MSFT\")])}\n",
    "]\n",
    "\n",
    "\n",
    "# Bounds: No asset <5% or >20% (diversification rule)\n",
    "bounds = [(0.05, 0.20) for _ in range(len(tickers))]\n"
   ]
  },
  {
   "cell_type": "code",
   "execution_count": 22,
   "metadata": {},
   "outputs": [
    {
     "name": "stdout",
     "output_type": "stream",
     "text": [
      "[0.125 0.125 0.125 0.125 0.125 0.125 0.125 0.125]\n"
     ]
    }
   ],
   "source": [
    "#setting initial weights \n",
    "\n",
    "initial_weights = np.array([1/len(tickers)]*len(tickers))\n",
    "print(initial_weights)"
   ]
  },
  {
   "cell_type": "code",
   "execution_count": 23,
   "metadata": {},
   "outputs": [
    {
     "name": "stdout",
     "output_type": "stream",
     "text": [
      "Individual weights: [0.125 0.125 0.125 0.125 0.125 0.125 0.125 0.125]\n",
      "Sum of weights: 1.0\n"
     ]
    }
   ],
   "source": [
    "\n",
    "print(\"Individual weights:\", initial_weights)  # Should show [0.125, 0.125, ...] for 8 tickers\n",
    "print(\"Sum of weights:\", np.sum(initial_weights))  # Must be 1.0"
   ]
  },
  {
   "cell_type": "markdown",
   "metadata": {},
   "source": [
    "Comparing to Benchmarks "
   ]
  },
  {
   "cell_type": "code",
   "execution_count": 24,
   "metadata": {},
   "outputs": [],
   "source": [
    "#Calculating equal-weighted performance for comparison\n",
    "\n",
    "equal_weights = np.array([1/len(tickers)]*len(tickers))\n",
    "equal_return = expected_return(equal_weights, log_return)\n",
    "equal_vol = standard_deviation(equal_weights, cov_matrix)\n",
    "equal_sharpe = sharpe_ratio(equal_weights, log_return, cov_matrix, risk_free_rate)"
   ]
  },
  {
   "cell_type": "code",
   "execution_count": 25,
   "metadata": {},
   "outputs": [],
   "source": [
    "#Optimize the weight to maximise Sharpe Ratio\n",
    "optimized_results=minimize(negative_sharpe_ratio,initial_weights, args= (log_return,cov_matrix,risk_free_rate),method='SLSQP',constraints=constraints,bounds=bounds)"
   ]
  },
  {
   "cell_type": "code",
   "execution_count": 26,
   "metadata": {},
   "outputs": [],
   "source": [
    "#Getting Optimial weights \n",
    "optimal_weights = optimized_results.x"
   ]
  },
  {
   "cell_type": "markdown",
   "metadata": {},
   "source": [
    "# Section 7: Analyze the optimal Portfolio "
   ]
  },
  {
   "cell_type": "code",
   "execution_count": 27,
   "metadata": {},
   "outputs": [
    {
     "name": "stdout",
     "output_type": "stream",
     "text": [
      "optimal_weights:\n",
      "SPY: 15.00%\n",
      "AGG: 5.00%\n",
      "EFA: 5.00%\n",
      "MSFT: 10.00%\n",
      "JPM: 20.00%\n",
      "NVDA: 20.00%\n",
      "JNJ: 20.00%\n",
      "PG: 5.00%\n",
      "\n",
      "Expected Annual Return :  0.2192\n",
      "Expected Volatility:  0.1819\n",
      "Sharpe Ratio :  0.9765\n"
     ]
    }
   ],
   "source": [
    "# Print optimal weights\n",
    "print('optimal_weights:')\n",
    "for ticker,weight in zip(tickers,optimal_weights):\n",
    "    print(f'{ticker}:{weight: .2%}')\n",
    "\n",
    "print()\n",
    "optimal_portfolio_return= expected_return(optimal_weights,log_return)\n",
    "optimal_portfolio_volatility= standard_deviation(optimal_weights,cov_matrix)\n",
    "optimal_sharpe_ratio= sharpe_ratio(optimal_weights,log_return,cov_matrix,risk_free_rate)\n",
    "\n",
    "print(f\"Expected Annual Return : {optimal_portfolio_return: .4f}\")\n",
    "print(f\"Expected Volatility: {optimal_portfolio_volatility: .4f}\")\n",
    "print(f\"Sharpe Ratio : {optimal_sharpe_ratio: .4f}\")"
   ]
  },
  {
   "cell_type": "markdown",
   "metadata": {},
   "source": [
    "# Section 7:  Visualization "
   ]
  },
  {
   "cell_type": "code",
   "execution_count": 28,
   "metadata": {},
   "outputs": [
    {
     "data": {
      "image/png": "[encoded data removed]",
      "text/plain": [
       "<Figure size 1000x600 with 1 Axes>"
      ]
     },
     "metadata": {},
     "output_type": "display_data"
    }
   ],
   "source": [
    "#Displaying the final portfolio graphically \n",
    "\n",
    "\n",
    "#importing required liabrary\n",
    "import matplotlib.pyplot as plt \n",
    "\n",
    "#creating a vbar chart of optimal weights \n",
    "plt.figure(figsize=(10,6))\n",
    "plt.bar(tickers,optimal_weights)\n",
    "\n",
    "#Add labels and a title \n",
    "plt.xlabel('Assets')\n",
    "plt.ylabel('optimal weights')\n",
    "plt.title(\"Optimal Portfolio Weights\")\n",
    "\n",
    "#Display \n",
    "plt.show()\n",
    "\n",
    " \n"
   ]
  },
  {
   "cell_type": "markdown",
   "metadata": {},
   "source": [
    "# #### #Section 8: Efficient Frontier "
   ]
  },
  {
   "cell_type": "code",
   "execution_count": 39,
   "metadata": {},
   "outputs": [],
   "source": [
    "\n",
    "# Reusing the existing helper functions\n",
    "def portfolio_return(weights):\n",
    "    return np.sum(log_return.mean() * weights) * 252\n",
    "\n",
    "def portfolio_volatility(weights):\n",
    "    return np.sqrt(weights.T @ cov_matrix @ weights)\n",
    "\n",
    "# generating points for the frontier\n",
    "target_returns = np.linspace(0.05, 0.30, 50)  # 5% to 30% annual target return\n",
    "frontier_vols = []\n",
    "\n",
    "# Constraints and bounds (same as before)\n",
    "constraints = [{'type': 'eq', 'fun': lambda w: np.sum(w) - 1}]\n",
    "bounds = [(0.05, 0.20) for _ in range(len(tickers))]\n",
    "\n",
    "for r in target_returns:\n",
    "    # Adding return constraint dynamically\n",
    "    cons = constraints + [{'type': 'eq', 'fun': lambda w, r=r: portfolio_return(w) - r}]\n",
    "    \n",
    "    result = minimize(lambda w: portfolio_volatility(w),\n",
    "                      x0=np.array([1/len(tickers)] * len(tickers)),\n",
    "                      method='SLSQP',\n",
    "                      bounds=bounds,\n",
    "                      constraints=cons)\n",
    "    \n",
    "    if result.success:\n",
    "        frontier_vols.append(result.fun)\n",
    "    else:\n",
    "        frontier_vols.append(np.nan)\n",
    "\n"
   ]
  },
  {
   "cell_type": "markdown",
   "metadata": {},
   "source": [
    "Plotting Efficeint Frontier "
   ]
  },
  {
   "cell_type": "code",
   "execution_count": 40,
   "metadata": {},
   "outputs": [
    {
     "data": {
      "image/png": "[encoded data removed]",
      "text/plain": [
       "<Figure size 1000x600 with 1 Axes>"
      ]
     },
     "metadata": {},
     "output_type": "display_data"
    }
   ],
   "source": [
    "\n",
    "plt.figure(figsize=(10, 6))\n",
    "plt.plot(frontier_vols, target_returns, 'r--', label='Efficient Frontier')\n",
    "plt.scatter(optimal_portfolio_volatility, optimal_portfolio_return, color='gold', s=120, marker='*', label='Optimal Portfolio')\n",
    "plt.scatter(equal_vol, equal_return, color='blue', s=80, label='Equal Weight Portfolio')\n",
    "\n",
    "plt.title(\"Efficient Frontier (Simplified)\")\n",
    "plt.xlabel(\"Volatility (Risk)\")\n",
    "plt.ylabel(\"Expected Return\")\n",
    "plt.legend()\n",
    "plt.grid(True)\n",
    "plt.show()\n"
   ]
  }
 ],
 "metadata": {
  "kernelspec": {
   "display_name": "base",
   "language": "python",
   "name": "python3"
  },
  "language_info": {
   "codemirror_mode": {
    "name": "ipython",
    "version": 3
   },
   "file_extension": ".py",
   "mimetype": "text/x-python",
   "name": "python",
   "nbconvert_exporter": "python",
   "pygments_lexer": "ipython3",
   "version": "3.12.2"
  }
 },
 "nbformat": 4,
 "nbformat_minor": 2
}
