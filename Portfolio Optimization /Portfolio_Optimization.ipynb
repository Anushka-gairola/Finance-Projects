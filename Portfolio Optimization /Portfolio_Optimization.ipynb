{
 "cells": [
  {
   "cell_type": "markdown",
   "metadata": {},
   "source": [
    "# *Portfolio Optimization Project Using Modern Portfolio Theory (MPT) and Markowitz Model"
   ]
  },
  {
   "cell_type": "markdown",
   "metadata": {},
   "source": [
    "Goal: Constructing a moderately aggressive, risk-aware portfolio for a long-term investor seeking stable returns with exposure to growth."
   ]
  },
  {
   "cell_type": "markdown",
   "metadata": {},
   "source": [
    "Importing Required liabraries "
   ]
  },
  {
   "cell_type": "code",
   "execution_count": 1,
   "metadata": {},
   "outputs": [],
   "source": [
    "\n",
    "import yfinance as yf\n",
    "import pandas as pd\n",
    "from datetime import datetime, timedelta\n",
    "import numpy as np\n",
    "from scipy.optimize import minimize\n",
    "import time  # for handling rate limits\n",
    "\n"
   ]
  },
  {
   "cell_type": "markdown",
   "metadata": {},
   "source": [
    "# Section 1: Defining Tickers and Time Range "
   ]
  },
  {
   "cell_type": "code",
   "execution_count": 2,
   "metadata": {},
   "outputs": [],
   "source": [
    "#Defining the list of tickers for my choosen asstes (EFTs+Stocks)\n",
    "tickers = [\"SPY\", \"AGG\", \"EFA\", \"MSFT\", \"JPM\", \"NVDA\", \"JNJ\", \"PG\"]"
   ]
  },
  {
   "cell_type": "code",
   "execution_count": 3,
   "metadata": {},
   "outputs": [],
   "source": [
    "#Setting the end date to today\n",
    "end_date = datetime.today()"
   ]
  },
  {
   "cell_type": "code",
   "execution_count": 4,
   "metadata": {},
   "outputs": [
    {
     "name": "stdout",
     "output_type": "stream",
     "text": [
      "2020-08-18 09:23:58.808792\n"
     ]
    }
   ],
   "source": [
    "#Setting the start date to 5 years ago\n",
    "start_date= end_date - timedelta(days = 5*365)\n",
    "print(start_date)"
   ]
  },
  {
   "cell_type": "code",
   "execution_count": 149,
   "metadata": {},
   "outputs": [],
   "source": [
    "api_key = 'OJ8Y2GIWOSA9HYQ8' \n",
    "\n",
    "# Initialize Alpha Vantage\n",
    "ts = TimeSeries(key=api_key, output_format='pandas')\n"
   ]
  },
  {
   "cell_type": "markdown",
   "metadata": {},
   "source": [
    "# Section 2: Downloading adjusted close price "
   ]
  },
  {
   "cell_type": "code",
   "execution_count": 5,
   "metadata": {},
   "outputs": [],
   "source": [
    "#Downnloading close price for all tickers at once\n",
    "adj_close_df = pd.DataFrame()"
   ]
  },
  {
   "cell_type": "code",
   "execution_count": 6,
   "metadata": {},
   "outputs": [
    {
     "name": "stdout",
     "output_type": "stream",
     "text": [
      "Requirement already satisfied: pandas-datareader in /opt/anaconda3/lib/python3.12/site-packages (0.10.0)\n",
      "Requirement already satisfied: lxml in /opt/anaconda3/lib/python3.12/site-packages (from pandas-datareader) (5.2.1)\n",
      "Requirement already satisfied: pandas>=0.23 in /opt/anaconda3/lib/python3.12/site-packages (from pandas-datareader) (2.2.2)\n",
      "Requirement already satisfied: requests>=2.19.0 in /opt/anaconda3/lib/python3.12/site-packages (from pandas-datareader) (2.32.3)\n",
      "Requirement already satisfied: numpy>=1.26.0 in /opt/anaconda3/lib/python3.12/site-packages (from pandas>=0.23->pandas-datareader) (1.26.4)\n",
      "Requirement already satisfied: python-dateutil>=2.8.2 in /opt/anaconda3/lib/python3.12/site-packages (from pandas>=0.23->pandas-datareader) (2.9.0.post0)\n",
      "Requirement already satisfied: pytz>=2020.1 in /opt/anaconda3/lib/python3.12/site-packages (from pandas>=0.23->pandas-datareader) (2024.1)\n",
      "Requirement already satisfied: tzdata>=2022.7 in /opt/anaconda3/lib/python3.12/site-packages (from pandas>=0.23->pandas-datareader) (2023.3)\n",
      "Requirement already satisfied: charset-normalizer<4,>=2 in /opt/anaconda3/lib/python3.12/site-packages (from requests>=2.19.0->pandas-datareader) (3.3.2)\n",
      "Requirement already satisfied: idna<4,>=2.5 in /opt/anaconda3/lib/python3.12/site-packages (from requests>=2.19.0->pandas-datareader) (3.7)\n",
      "Requirement already satisfied: urllib3<3,>=1.21.1 in /opt/anaconda3/lib/python3.12/site-packages (from requests>=2.19.0->pandas-datareader) (1.26.19)\n",
      "Requirement already satisfied: certifi>=2017.4.17 in /opt/anaconda3/lib/python3.12/site-packages (from requests>=2.19.0->pandas-datareader) (2023.11.17)\n",
      "Requirement already satisfied: six>=1.5 in /opt/anaconda3/lib/python3.12/site-packages (from python-dateutil>=2.8.2->pandas>=0.23->pandas-datareader) (1.16.0)\n"
     ]
    }
   ],
   "source": [
    "!pip install pandas-datareader"
   ]
  },
  {
   "cell_type": "code",
   "execution_count": 7,
   "metadata": {},
   "outputs": [
    {
     "name": "stderr",
     "output_type": "stream",
     "text": [
      "[*********************100%***********************]  1 of 1 completed\n",
      "[*********************100%***********************]  1 of 1 completed\n",
      "[*********************100%***********************]  1 of 1 completed\n",
      "[*********************100%***********************]  1 of 1 completed\n",
      "[*********************100%***********************]  1 of 1 completed\n",
      "[*********************100%***********************]  1 of 1 completed\n",
      "[*********************100%***********************]  1 of 1 completed\n",
      "[*********************100%***********************]  1 of 1 completed\n"
     ]
    }
   ],
   "source": [
    "for ticker in tickers:\n",
    "    data = yf.download(ticker, start=start_date, end=end_date,  auto_adjust=False)\n",
    "    adj_close_df[ticker]=data[\"Adj Close\"]\n",
    "    "
   ]
  },
  {
   "cell_type": "code",
   "execution_count": 8,
   "metadata": {},
   "outputs": [
    {
     "name": "stdout",
     "output_type": "stream",
     "text": [
      "                   SPY         AGG        EFA        MSFT         JPM  \\\n",
      "Date                                                                    \n",
      "2020-08-18  315.313873  103.056015  56.325871  202.625580   85.973930   \n",
      "2020-08-19  314.001068  102.899490  56.075539  201.396194   86.175056   \n",
      "2020-08-20  314.978668  103.082077  55.894249  206.082977   85.143211   \n",
      "2020-08-21  316.096008  103.186424  55.609390  204.584763   85.099487   \n",
      "2020-08-24  319.299011  103.142929  56.343132  205.228241   87.495422   \n",
      "...                ...         ...        ...         ...         ...   \n",
      "2025-08-11  635.919983   99.010002  89.989998  521.770020  289.559998   \n",
      "2025-08-12  642.690002   99.010002  91.089996  529.239990  292.850006   \n",
      "2025-08-13  644.890015   99.370003  91.639999  520.580017  290.529999   \n",
      "2025-08-14  644.950012   99.089996  91.650002  522.479980  294.160004   \n",
      "2025-08-15  643.440002   98.940002  92.190002  520.169983  290.489990   \n",
      "\n",
      "                  NVDA         JNJ          PG  \n",
      "Date                                            \n",
      "2020-08-18   12.220469  130.227341  120.630127  \n",
      "2020-08-19   12.098622  130.487640  119.976212  \n",
      "2020-08-20   12.101115  131.381332  120.930550  \n",
      "2020-08-21   12.641831  132.544022  121.451920  \n",
      "2020-08-24   12.678462  132.893372  122.397446  \n",
      "...                ...         ...         ...  \n",
      "2025-08-11  182.059998  173.820007  154.979996  \n",
      "2025-08-12  183.160004  172.779999  155.089996  \n",
      "2025-08-13  181.589996  174.419998  155.410004  \n",
      "2025-08-14  182.020004  174.720001  153.740005  \n",
      "2025-08-15  180.449997  176.639999  154.360001  \n",
      "\n",
      "[1255 rows x 8 columns]\n"
     ]
    }
   ],
   "source": [
    "#displaying data frame\n",
    "print(adj_close_df)"
   ]
  },
  {
   "cell_type": "code",
   "execution_count": 9,
   "metadata": {},
   "outputs": [
    {
     "name": "stdout",
     "output_type": "stream",
     "text": [
      "Data saved to adj_close_prices.csv\n"
     ]
    }
   ],
   "source": [
    "# Section 3: Save Adjusted Close Prices to CSV\n",
    "output_file = \"adj_close_prices.csv\"\n",
    "adj_close_df.to_csv(output_file)\n",
    "\n",
    "print(f\"Data saved to {output_file}\")"
   ]
  },
  {
   "cell_type": "markdown",
   "metadata": {},
   "source": [
    "# Section 3: Calculating Lognormal Returns"
   ]
  },
  {
   "cell_type": "code",
   "execution_count": 10,
   "metadata": {},
   "outputs": [],
   "source": [
    "#Calculating lognormal returns for each ticker \n",
    "\n",
    "price_ratio = adj_close_df / adj_close_df.shift(1)  \n",
    "log_return = np.log(price_ratio)"
   ]
  },
  {
   "cell_type": "markdown",
   "metadata": {},
   "source": [
    "Dropping any Mssing Values "
   ]
  },
  {
   "cell_type": "code",
   "execution_count": 11,
   "metadata": {},
   "outputs": [],
   "source": [
    "log_return=log_return.dropna()"
   ]
  },
  {
   "cell_type": "markdown",
   "metadata": {},
   "source": [
    "# Section 4 : Calculate Covariance Matrix "
   ]
  },
  {
   "cell_type": "code",
   "execution_count": 12,
   "metadata": {},
   "outputs": [
    {
     "name": "stdout",
     "output_type": "stream",
     "text": [
      "           SPY       AGG       EFA      MSFT       JPM      NVDA       JNJ  \\\n",
      "SPY   0.030634  0.002006  0.023081  0.035773  0.027241  0.064104  0.007851   \n",
      "AGG   0.002006  0.003660  0.002296  0.002540 -0.000950  0.003919  0.001325   \n",
      "EFA   0.023081  0.002296  0.026889  0.023406  0.023427  0.044035  0.007370   \n",
      "MSFT  0.035773  0.002540  0.023406  0.070410  0.020081  0.089508  0.005086   \n",
      "JPM   0.027241 -0.000950  0.023427  0.020081  0.064527  0.037927  0.009822   \n",
      "NVDA  0.064104  0.003919  0.044035  0.089508  0.037927  0.274146 -0.005944   \n",
      "JNJ   0.007851  0.001325  0.007370  0.005086  0.009822 -0.005944  0.028814   \n",
      "PG    0.010667  0.001850  0.009035  0.011438  0.007886  0.005140  0.013443   \n",
      "\n",
      "            PG  \n",
      "SPY   0.010667  \n",
      "AGG   0.001850  \n",
      "EFA   0.009035  \n",
      "MSFT  0.011438  \n",
      "JPM   0.007886  \n",
      "NVDA  0.005140  \n",
      "JNJ   0.013443  \n",
      "PG    0.029685  \n"
     ]
    }
   ],
   "source": [
    "# Calculating covariance \n",
    "cov_matrix = log_return.cov()*252\n",
    "print(cov_matrix)"
   ]
  },
  {
   "cell_type": "markdown",
   "metadata": {},
   "source": [
    "Confirming log vs. simple return differences are negligible (<0.01%)"
   ]
  },
  {
   "cell_type": "code",
   "execution_count": 13,
   "metadata": {},
   "outputs": [
    {
     "name": "stdout",
     "output_type": "stream",
     "text": [
      "Difference (%):\n",
      " SPY     2.767626e-06\n",
      "AGG     5.118488e-07\n",
      "EFA     2.678083e-06\n",
      "MSFT    1.042827e-05\n",
      "JPM    -1.924475e-05\n",
      "NVDA   -8.827376e-05\n",
      "JNJ     6.429292e-06\n",
      "PG      1.749605e-05\n",
      "dtype: float64\n",
      "Validation passed: return-type differences < 0.01%\n"
     ]
    }
   ],
   "source": [
    "# Validating Return Type Assumptions\n",
    "\n",
    "log_means = log_return.mean()\n",
    "simple_means = adj_close_df.pct_change().mean()\n",
    "\n",
    "# Comparing differences\n",
    "difference = (np.exp(log_means + 0.5*log_return.var()) - 1) - simple_means\n",
    "print(\"Difference (%):\\n\", difference * 100)  # Convert to percentage\n",
    "\n",
    "if (abs(difference) > 0.0001).any():  # If any difference > 0.01%\n",
    "    print(\"[WARNING] Large return-type differences detected for:\", \n",
    "          difference[difference > 0.0001].index.tolist())\n",
    "else:\n",
    "    print(\"Validation passed: return-type differences < 0.01%\")\n"
   ]
  },
  {
   "cell_type": "markdown",
   "metadata": {},
   "source": [
    "# Section 5: Defining Portfolio Performance Metrics "
   ]
  },
  {
   "cell_type": "code",
   "execution_count": 14,
   "metadata": {},
   "outputs": [],
   "source": [
    "#calculating the portfolio standard deviation\n",
    "\n",
    "def standard_deviation (weights, cov_matrix):\n",
    "    \"\"\"Annualized portfolio volatility (standard deviation).\"\"\"\n",
    "    variance = weights.T @cov_matrix @weights\n",
    "    return np.sqrt(variance)"
   ]
  },
  {
   "cell_type": "code",
   "execution_count": 15,
   "metadata": {},
   "outputs": [],
   "source": [
    "#calculating the expected portfolio return\n",
    "def expected_return (weights, log_return):\n",
    "    \"\"\"Annualized expected portfolio return.\"\"\"\n",
    "    return np.sum(log_return.mean()*weights)*252"
   ]
  },
  {
   "cell_type": "code",
   "execution_count": 16,
   "metadata": {},
   "outputs": [],
   "source": [
    "# calculating sharpe ratio \n",
    "\n",
    "def sharpe_ratio(weights, log_return, cov_matrix, risk_free_rate):\n",
    "    \"\"\"Risk-adjusted return metric (higher = better).\"\"\"\n",
    "    er = expected_return(weights, log_return)\n",
    "    sd = standard_deviation(weights, cov_matrix)\n",
    "    return (er - risk_free_rate) / sd"
   ]
  },
  {
   "cell_type": "code",
   "execution_count": 17,
   "metadata": {},
   "outputs": [
    {
     "name": "stdout",
     "output_type": "stream",
     "text": [
      "Risk-Free Rate: 0.04328000068664551\n"
     ]
    }
   ],
   "source": [
    "# Get current 10-year Treasury yield (risk-free proxy)\n",
    "\n",
    "treasury = yf.Ticker(\"^TNX\") #fetching 10 year US treasury yeild\n",
    "\n",
    "risk_free_rate = treasury.history(period=\"1d\")['Close'].iloc[-1]/100 # Convert % to decimal\n",
    "\n",
    "print(f\"Risk-Free Rate: {risk_free_rate}\")"
   ]
  },
  {
   "cell_type": "code",
   "execution_count": 18,
   "metadata": {},
   "outputs": [
    {
     "name": "stdout",
     "output_type": "stream",
     "text": [
      "Test Sharpe Ratio: 0.80\n"
     ]
    }
   ],
   "source": [
    "test_weights = np.array([1/len(tickers)] * len(tickers))\n",
    "print(f\"Test Sharpe Ratio: {sharpe_ratio(test_weights, log_return, cov_matrix, risk_free_rate):.2f}\")"
   ]
  },
  {
   "cell_type": "markdown",
   "metadata": {},
   "source": [
    "# Section 6: Portfolio Optimization "
   ]
  },
  {
   "cell_type": "code",
   "execution_count": 19,
   "metadata": {},
   "outputs": [],
   "source": [
    "# Defining the function to mimimize (negative sharpe ratio)\n",
    "def negative_sharpe_ratio(weights, log_return, cov_matrix, risk_free_rate):\n",
    "    \"\"\"Negative Sharpe ratio for minimization\"\"\"\n",
    "    return -sharpe_ratio(weights, log_return, cov_matrix, risk_free_rate)"
   ]
  },
  {
   "cell_type": "code",
   "execution_count": 20,
   "metadata": {},
   "outputs": [],
   "source": [
    "#Setting the constarint bounds for optimization\n",
    "\n",
    "# RULE 1: Weights must sum to 100% (no leftover cash)\n",
    "\n",
    "constraints = [ # Sum of weights = 100% (fully invested)\n",
    "               {'type':'eq','fun': lambda weights: np.sum(weights)-1},\n",
    "\n",
    "               # Tech sector (NVDA + MSFT) < 30% of portfolio\n",
    "               {'type': 'ineq', 'fun': lambda weights: 0.3 - (weights[tickers.index(\"NVDA\")] + weights[tickers.index(\"MSFT\")])}\n",
    "]\n",
    "\n",
    "\n",
    "# Bounds: No asset <5% or >20% (diversification rule)\n",
    "bounds = [(0.05, 0.20) for _ in range(len(tickers))]\n"
   ]
  },
  {
   "cell_type": "code",
   "execution_count": 21,
   "metadata": {},
   "outputs": [
    {
     "name": "stdout",
     "output_type": "stream",
     "text": [
      "[0.125 0.125 0.125 0.125 0.125 0.125 0.125 0.125]\n"
     ]
    }
   ],
   "source": [
    "#setting initial weights \n",
    "\n",
    "initial_weights = np.array([1/len(tickers)]*len(tickers))\n",
    "print(initial_weights)"
   ]
  },
  {
   "cell_type": "code",
   "execution_count": 22,
   "metadata": {},
   "outputs": [
    {
     "name": "stdout",
     "output_type": "stream",
     "text": [
      "Individual weights: [0.125 0.125 0.125 0.125 0.125 0.125 0.125 0.125]\n",
      "Sum of weights: 1.0\n"
     ]
    }
   ],
   "source": [
    "\n",
    "print(\"Individual weights:\", initial_weights)  # Should show [0.125, 0.125, ...] for 8 tickers\n",
    "print(\"Sum of weights:\", np.sum(initial_weights))  # Must be 1.0"
   ]
  },
  {
   "cell_type": "markdown",
   "metadata": {},
   "source": [
    "Comparing to Benchmarks "
   ]
  },
  {
   "cell_type": "code",
   "execution_count": 23,
   "metadata": {},
   "outputs": [],
   "source": [
    "#Calculating equal-weighted performance for comparison\n",
    "\n",
    "equal_weights = np.array([1/len(tickers)]*len(tickers))\n",
    "equal_return = expected_return(equal_weights, log_return)\n",
    "equal_vol = standard_deviation(equal_weights, cov_matrix)\n",
    "equal_sharpe = sharpe_ratio(equal_weights, log_return, cov_matrix, risk_free_rate)"
   ]
  },
  {
   "cell_type": "code",
   "execution_count": 24,
   "metadata": {},
   "outputs": [],
   "source": [
    "#Optimize the weight to maximise Sharpe Ratio\n",
    "optimized_results=minimize(negative_sharpe_ratio,initial_weights, args= (log_return,cov_matrix,risk_free_rate),method='SLSQP',constraints=constraints,bounds=bounds)"
   ]
  },
  {
   "cell_type": "code",
   "execution_count": 25,
   "metadata": {},
   "outputs": [],
   "source": [
    "#Getting Optimial weights \n",
    "optimal_weights = optimized_results.x"
   ]
  },
  {
   "cell_type": "markdown",
   "metadata": {},
   "source": [
    "# Section 7: Analyze the optimal Portfolio "
   ]
  },
  {
   "cell_type": "code",
   "execution_count": 26,
   "metadata": {},
   "outputs": [
    {
     "name": "stdout",
     "output_type": "stream",
     "text": [
      "optimal_weights:\n",
      "SPY: 10.73%\n",
      "AGG: 5.00%\n",
      "EFA: 5.00%\n",
      "MSFT: 10.00%\n",
      "JPM: 20.00%\n",
      "NVDA: 20.00%\n",
      "JNJ: 20.00%\n",
      "PG: 9.27%\n",
      "\n",
      "Expected Annual Return :  0.2129\n",
      "Expected Volatility:  0.1808\n",
      "Sharpe Ratio :  0.9381\n"
     ]
    }
   ],
   "source": [
    "# Print optimal weights\n",
    "print('optimal_weights:')\n",
    "for ticker,weight in zip(tickers,optimal_weights):\n",
    "    print(f'{ticker}:{weight: .2%}')\n",
    "\n",
    "print()\n",
    "optimal_portfolio_return= expected_return(optimal_weights,log_return)\n",
    "optimal_portfolio_volatility= standard_deviation(optimal_weights,cov_matrix)\n",
    "optimal_sharpe_ratio= sharpe_ratio(optimal_weights,log_return,cov_matrix,risk_free_rate)\n",
    "\n",
    "print(f\"Expected Annual Return : {optimal_portfolio_return: .4f}\")\n",
    "print(f\"Expected Volatility: {optimal_portfolio_volatility: .4f}\")\n",
    "print(f\"Sharpe Ratio : {optimal_sharpe_ratio: .4f}\")"
   ]
  },
  {
   "cell_type": "markdown",
   "metadata": {},
   "source": [
    "# Section 7:  Visualization "
   ]
  },
  {
   "cell_type": "code",
   "execution_count": 27,
   "metadata": {},
   "outputs": [
    {
     "data": {
      "image/png": "[encoded data removed]",
      "text/plain": [
       "<Figure size 1000x600 with 1 Axes>"
      ]
     },
     "metadata": {},
     "output_type": "display_data"
    }
   ],
   "source": [
    "#Displaying the final portfolio graphically \n",
    "\n",
    "\n",
    "#importing required liabrary\n",
    "import matplotlib.pyplot as plt \n",
    "\n",
    "#creating a vbar chart of optimal weights \n",
    "plt.figure(figsize=(10,6))\n",
    "plt.bar(tickers,optimal_weights)\n",
    "\n",
    "#Add labels and a title \n",
    "plt.xlabel('Assets')\n",
    "plt.ylabel('optimal weights')\n",
    "plt.title(\"Optimal Portfolio Weights\")\n",
    "\n",
    "#Display \n",
    "plt.show()\n",
    "\n",
    " \n"
   ]
  },
  {
   "cell_type": "markdown",
   "metadata": {},
   "source": [
    "#Section 8: Efficient Frontier "
   ]
  },
  {
   "cell_type": "code",
   "execution_count": null,
   "metadata": {},
   "outputs": [],
   "source": [
    "#Calculate Portfolio Volatility (Risk)\n",
    "\n",
    "def portfolio_volatility (cov_matrix, weights):\n",
    "     \"\"\"\n",
    "    Calculates the annualized portfolio volatility (standard deviation).\n",
    "    \"\"\"\n",
    "variance = weights.T @ cov_matrix @ weights  # Matrix multiplication: w^T * Σ * w\n",
    "return np.sqrt(variance)  # Convert variance to standard deviation"
   ]
  }
 ],
 "metadata": {
  "kernelspec": {
   "display_name": "base",
   "language": "python",
   "name": "python3"
  },
  "language_info": {
   "codemirror_mode": {
    "name": "ipython",
    "version": 3
   },
   "file_extension": ".py",
   "mimetype": "text/x-python",
   "name": "python",
   "nbconvert_exporter": "python",
   "pygments_lexer": "ipython3",
   "version": "3.12.2"
  }
 },
 "nbformat": 4,
 "nbformat_minor": 2
}
