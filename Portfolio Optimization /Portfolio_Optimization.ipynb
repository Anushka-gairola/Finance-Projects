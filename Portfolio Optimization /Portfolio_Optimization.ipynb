{
 "cells": [
  {
   "cell_type": "markdown",
   "metadata": {},
   "source": [
    "# *Portfolio Optimization Project Using Modern Portfolio Theory (MPT) and Markowitz Model"
   ]
  },
  {
   "cell_type": "markdown",
   "metadata": {},
   "source": [
    "Goal: Constructing a moderately aggressive, risk-aware portfolio for a long-term investor seeking stable returns with exposure to growth."
   ]
  },
  {
   "cell_type": "markdown",
   "metadata": {},
   "source": [
    "Importing Required liabraries "
   ]
  },
  {
   "cell_type": "code",
   "execution_count": 1,
   "metadata": {},
   "outputs": [],
   "source": [
    "import yfinance as yf\n",
    "import pandas as pd\n",
    "from datetime import datetime, timedelta\n",
    "import numpy as np\n",
    "from scipy.optimize import minimize\n"
   ]
  },
  {
   "cell_type": "markdown",
   "metadata": {},
   "source": [
    "# Section 1: Defining Tickers and Time Range "
   ]
  },
  {
   "cell_type": "code",
   "execution_count": 12,
   "metadata": {},
   "outputs": [],
   "source": [
    "#Defining the list of tickers for my choosen asstes (EFTs+Stocks)\n",
    "tickers = [\"SPY\", \"AGG\", \"EFA\", \"MSFT\", \"JPM\", \"NVDA\", \"JNJ\", \"PG\"]"
   ]
  },
  {
   "cell_type": "code",
   "execution_count": 13,
   "metadata": {},
   "outputs": [],
   "source": [
    "#Setting the end date to today\n",
    "end_date = datetime.today()"
   ]
  },
  {
   "cell_type": "code",
   "execution_count": 14,
   "metadata": {},
   "outputs": [
    {
     "name": "stdout",
     "output_type": "stream",
     "text": [
      "2020-08-02 21:12:23.000864\n"
     ]
    }
   ],
   "source": [
    "#Setting the start date to 5 years ago\n",
    "start_date= end_date - timedelta(days = 5*365)\n",
    "print(start_date)"
   ]
  },
  {
   "cell_type": "markdown",
   "metadata": {},
   "source": [
    "# Section 2: Downloading adjusted close price "
   ]
  },
  {
   "cell_type": "code",
   "execution_count": 15,
   "metadata": {},
   "outputs": [],
   "source": [
    "#Downnloading close price for all tickers at once\n",
    "adj_close_df = pd.DataFrame()"
   ]
  },
  {
   "cell_type": "code",
   "execution_count": 16,
   "metadata": {},
   "outputs": [
    {
     "name": "stderr",
     "output_type": "stream",
     "text": [
      "[*********************100%***********************]  1 of 1 completed\n",
      "\n",
      "1 Failed download:\n",
      "['SPY']: YFRateLimitError('Too Many Requests. Rate limited. Try after a while.')\n",
      "[*********************100%***********************]  1 of 1 completed\n",
      "\n",
      "1 Failed download:\n",
      "['AGG']: YFRateLimitError('Too Many Requests. Rate limited. Try after a while.')\n",
      "[*********************100%***********************]  1 of 1 completed\n",
      "\n",
      "1 Failed download:\n",
      "['EFA']: YFRateLimitError('Too Many Requests. Rate limited. Try after a while.')\n",
      "[*********************100%***********************]  1 of 1 completed\n",
      "\n",
      "1 Failed download:\n",
      "['MSFT']: YFRateLimitError('Too Many Requests. Rate limited. Try after a while.')\n",
      "[*********************100%***********************]  1 of 1 completed\n",
      "\n",
      "1 Failed download:\n",
      "['JPM']: YFRateLimitError('Too Many Requests. Rate limited. Try after a while.')\n",
      "[*********************100%***********************]  1 of 1 completed\n",
      "\n",
      "1 Failed download:\n",
      "['NVDA']: YFRateLimitError('Too Many Requests. Rate limited. Try after a while.')\n",
      "[*********************100%***********************]  1 of 1 completed\n",
      "\n",
      "1 Failed download:\n",
      "['JNJ']: YFRateLimitError('Too Many Requests. Rate limited. Try after a while.')\n",
      "[*********************100%***********************]  1 of 1 completed\n",
      "\n",
      "1 Failed download:\n",
      "['PG']: YFRateLimitError('Too Many Requests. Rate limited. Try after a while.')\n"
     ]
    }
   ],
   "source": [
    "for ticker in tickers:\n",
    "    data = yf.download(ticker, start=start_date, end=end_date,  auto_adjust=False)\n",
    "    adj_close_df[ticker]=data[\"Adj Close\"]"
   ]
  },
  {
   "cell_type": "code",
   "execution_count": 10,
   "metadata": {},
   "outputs": [
    {
     "name": "stdout",
     "output_type": "stream",
     "text": [
      "Empty DataFrame\n",
      "Columns: [SPY, AGG, EFA, MSFT, JPM, NVDA, JNJ, PG]\n",
      "Index: []\n"
     ]
    }
   ],
   "source": [
    "#displaying data frame\n",
    "print(adj_close_df)"
   ]
  },
  {
   "cell_type": "markdown",
   "metadata": {},
   "source": [
    "# Section 3: Calculating Lognormal Returns"
   ]
  },
  {
   "cell_type": "code",
   "execution_count": 122,
   "metadata": {},
   "outputs": [],
   "source": [
    "#Calculating lognormal returns for each ticker \n",
    "\n",
    "price_ratio = adj_close_df / adj_close_df.shift(1)  \n",
    "log_return = np.log(price_ratio)"
   ]
  },
  {
   "cell_type": "markdown",
   "metadata": {},
   "source": [
    "Dropping any Mssing Values "
   ]
  },
  {
   "cell_type": "code",
   "execution_count": 32,
   "metadata": {},
   "outputs": [],
   "source": [
    "log_return=log_return.dropna()"
   ]
  },
  {
   "cell_type": "markdown",
   "metadata": {},
   "source": [
    "# Section 4 : Calculate Covariance Matrix "
   ]
  },
  {
   "cell_type": "code",
   "execution_count": 34,
   "metadata": {},
   "outputs": [
    {
     "name": "stdout",
     "output_type": "stream",
     "text": [
      "           SPY       AGG       EFA      MSFT       JPM      NVDA       JNJ  \\\n",
      "SPY   0.031085  0.002016  0.023455  0.036540  0.027665  0.064893  0.008079   \n",
      "AGG   0.002016  0.003615  0.002258  0.002577 -0.001006  0.004078  0.001260   \n",
      "EFA   0.023455  0.002258  0.027296  0.024336  0.024032  0.045008  0.007390   \n",
      "MSFT  0.036540  0.002577  0.024336  0.072565  0.019648  0.091760  0.005714   \n",
      "JPM   0.027665 -0.001006  0.024032  0.019648  0.066847  0.037041  0.010289   \n",
      "NVDA  0.064893  0.004078  0.045008  0.091760  0.037041  0.276552 -0.005139   \n",
      "JNJ   0.008079  0.001260  0.007390  0.005714  0.010289 -0.005139  0.027950   \n",
      "PG    0.010942  0.001844  0.009091  0.011864  0.008174  0.006228  0.013365   \n",
      "\n",
      "            PG  \n",
      "SPY   0.010942  \n",
      "AGG   0.001844  \n",
      "EFA   0.009091  \n",
      "MSFT  0.011864  \n",
      "JPM   0.008174  \n",
      "NVDA  0.006228  \n",
      "JNJ   0.013365  \n",
      "PG    0.029686  \n"
     ]
    }
   ],
   "source": [
    "# Calculating covariance \n",
    "cov_matrix = log_return.cov()*252\n",
    "print(cov_matrix)"
   ]
  },
  {
   "cell_type": "markdown",
   "metadata": {},
   "source": [
    "Confirming log vs. simple return differences are negligible (<0.01%)"
   ]
  },
  {
   "cell_type": "code",
   "execution_count": 50,
   "metadata": {},
   "outputs": [
    {
     "name": "stdout",
     "output_type": "stream",
     "text": [
      "Difference (%):\n",
      " SPY     3.227226e-06\n",
      "AGG     5.126124e-07\n",
      "EFA     3.040464e-06\n",
      "MSFT    9.928127e-06\n",
      "JPM    -1.913598e-05\n",
      "NVDA   -8.801125e-05\n",
      "JNJ     8.956586e-06\n",
      "PG      1.765311e-05\n",
      "dtype: float64\n",
      "Validation passed: return-type differences < 0.01%\n"
     ]
    }
   ],
   "source": [
    "# Validating Return Type Assumptions\n",
    "\n",
    "log_means = log_return.mean()\n",
    "simple_means = adj_close_df.pct_change().mean()\n",
    "\n",
    "# Comparing differences\n",
    "difference = (np.exp(log_means + 0.5*log_return.var()) - 1) - simple_means\n",
    "print(\"Difference (%):\\n\", difference * 100)  # Convert to percentage\n",
    "\n",
    "if (abs(difference) > 0.0001).any():  # If any difference > 0.01%\n",
    "    print(\"[WARNING] Large return-type differences detected for:\", \n",
    "          difference[difference > 0.0001].index.tolist())\n",
    "else:\n",
    "    print(\"Validation passed: return-type differences < 0.01%\")\n"
   ]
  },
  {
   "cell_type": "markdown",
   "metadata": {},
   "source": [
    "# Section 5: Defining Portfolio Performance Metrics "
   ]
  },
  {
   "cell_type": "code",
   "execution_count": 51,
   "metadata": {},
   "outputs": [],
   "source": [
    "#calculating the portfolio standard deviation\n",
    "\n",
    "def standard_deviation (weights, cov_matrix):\n",
    "    \"\"\"Annualized portfolio volatility (standard deviation).\"\"\"\n",
    "    variance = weights.T @cov_matrix @weights\n",
    "    return np.sqrt(variance)"
   ]
  },
  {
   "cell_type": "code",
   "execution_count": 52,
   "metadata": {},
   "outputs": [],
   "source": [
    "#calculating the expected portfolio return\n",
    "def expected_return (weights, log_return):\n",
    "    \"\"\"Annualized expected portfolio return.\"\"\"\n",
    "    return np.sum(log_return.mean()*weights)*252"
   ]
  },
  {
   "cell_type": "code",
   "execution_count": 54,
   "metadata": {},
   "outputs": [],
   "source": [
    "# calculating sharpe ratio \n",
    "\n",
    "def sharpe_ratio(weights, log_return, cov_matrix, risk_free_rate):\n",
    "    \"\"\"Risk-adjusted return metric (higher = better).\"\"\"\n",
    "    er = expected_return(weights, log_return)\n",
    "    sd = standard_deviation(weights, cov_matrix)\n",
    "    return (er - risk_free_rate) / sd"
   ]
  },
  {
   "cell_type": "code",
   "execution_count": 55,
   "metadata": {},
   "outputs": [
    {
     "name": "stdout",
     "output_type": "stream",
     "text": [
      "Test Sharpe Ratio: 0.80\n"
     ]
    }
   ],
   "source": [
    "test_weights = np.array([1/len(tickers)] * len(tickers))\n",
    "print(f\"Test Sharpe Ratio: {sharpe_ratio(test_weights, log_return, cov_matrix, risk_free_rate):.2f}\")"
   ]
  },
  {
   "cell_type": "markdown",
   "metadata": {},
   "source": [
    "# Section 6: Portfolio Optimization "
   ]
  },
  {
   "cell_type": "markdown",
   "metadata": {},
   "source": [
    "Setting the risk- free rate "
   ]
  },
  {
   "cell_type": "code",
   "execution_count": null,
   "metadata": {},
   "outputs": [
    {
     "name": "stdout",
     "output_type": "stream",
     "text": [
      "Risk-Free Rate: 0.04452000141143799\n"
     ]
    }
   ],
   "source": [
    "# Get current 10-year Treasury yield (risk-free proxy)\n",
    "treasury = yf.Ticker(\"^TNX\") #fetching 10 year US treasury yeild\n",
    "risk_free_rate = treasury.history(period=\"1d\")['Close'].iloc[-1]/100  # Convert % to decimal\n",
    "print(f\"Risk-Free Rate: {risk_free_rate}\")"
   ]
  },
  {
   "cell_type": "code",
   "execution_count": 56,
   "metadata": {},
   "outputs": [],
   "source": [
    "# Defining the function to mimimize (negative sharpe ratio)\n",
    "def negative_sharpe_ratio(weights, log_return, cov_matrix, risk_free_rate):\n",
    "    \"\"\"Negative Sharpe ratio for minimization\"\"\"\n",
    "    return -sharpe_ratio(weights, log_return, cov_matrix, risk_free_rate)"
   ]
  },
  {
   "cell_type": "code",
   "execution_count": 113,
   "metadata": {},
   "outputs": [],
   "source": [
    "#Setting the constarint bounds for optimization\n",
    "\n",
    "# RULE 1: Weights must sum to 100% (no leftover cash)\n",
    "\n",
    "constraints = [ # Sum of weights = 100% (fully invested)\n",
    "               {'type':'eq','fun': lambda weights: np.sum(weights)-1},\n",
    "\n",
    "               # Tech sector (NVDA + MSFT) < 30% of portfolio\n",
    "               {'type': 'ineq', 'fun': lambda weights: 0.3 - (weights[tickers.index(\"NVDA\")] + weights[tickers.index(\"MSFT\")])}\n",
    "]\n",
    "\n",
    "\n",
    "# Bounds: No asset <5% or >20% (diversification rule)\n",
    "bounds = [(0.05, 0.20) for _ in range(len(tickers))]\n"
   ]
  },
  {
   "cell_type": "code",
   "execution_count": 114,
   "metadata": {},
   "outputs": [
    {
     "name": "stdout",
     "output_type": "stream",
     "text": [
      "[0.125 0.125 0.125 0.125 0.125 0.125 0.125 0.125]\n"
     ]
    }
   ],
   "source": [
    "#setting initial weights \n",
    "\n",
    "initial_weights = np.array([1/len(tickers)]*len(tickers))\n",
    "print(initial_weights)"
   ]
  },
  {
   "cell_type": "code",
   "execution_count": 116,
   "metadata": {},
   "outputs": [
    {
     "name": "stdout",
     "output_type": "stream",
     "text": [
      "Individual weights: [0.125 0.125 0.125 0.125 0.125 0.125 0.125 0.125]\n",
      "Sum of weights: 1.0\n"
     ]
    }
   ],
   "source": [
    "\n",
    "print(\"Individual weights:\", initial_weights)  # Should show [0.125, 0.125, ...] for 8 tickers\n",
    "print(\"Sum of weights:\", np.sum(initial_weights))  # Must be 1.0"
   ]
  },
  {
   "cell_type": "markdown",
   "metadata": {},
   "source": [
    "Comparing to Benchmarks "
   ]
  },
  {
   "cell_type": "code",
   "execution_count": 117,
   "metadata": {},
   "outputs": [],
   "source": [
    "#Calculating equal-weighted performance for comparison\n",
    "\n",
    "equal_weights = np.array([1/len(tickers)]*len(tickers))\n",
    "equal_return = expected_return(equal_weights, log_return)\n",
    "equal_vol = standard_deviation(equal_weights, cov_matrix)\n",
    "equal_sharpe = sharpe_ratio(equal_weights, log_return, cov_matrix, risk_free_rate)"
   ]
  },
  {
   "cell_type": "code",
   "execution_count": 118,
   "metadata": {},
   "outputs": [],
   "source": [
    "#Optimize the weight to maximise Sharpe Ratio\n",
    "optimized_results=minimize(negative_sharpe_ratio,initial_weights, args= (log_return,cov_matrix,risk_free_rate),method='SLSQP',constraints=constraints,bounds=bounds)"
   ]
  },
  {
   "cell_type": "code",
   "execution_count": 119,
   "metadata": {},
   "outputs": [],
   "source": [
    "#Getting Optimial weights \n",
    "optimal_weights = optimized_results.x"
   ]
  },
  {
   "cell_type": "markdown",
   "metadata": {},
   "source": [
    "# Section 7: Analyze the optimal Portfolio "
   ]
  },
  {
   "cell_type": "code",
   "execution_count": 120,
   "metadata": {},
   "outputs": [
    {
     "name": "stdout",
     "output_type": "stream",
     "text": [
      "optimal_weights:\n",
      "SPY: 6.03%\n",
      "AGG: 5.00%\n",
      "EFA: 5.00%\n",
      "MSFT: 10.00%\n",
      "JPM: 20.00%\n",
      "NVDA: 20.00%\n",
      "JNJ: 13.97%\n",
      "PG: 20.00%\n",
      "\n",
      "Expected Annual Return :  0.2122\n",
      "Expected Volatility:  0.1786\n",
      "Sharpe Ratio :  0.9389\n"
     ]
    }
   ],
   "source": [
    "# Print optimal weights\n",
    "print('optimal_weights:')\n",
    "for ticker,weight in zip(tickers,optimal_weights):\n",
    "    print(f'{ticker}:{weight: .2%}')\n",
    "\n",
    "print()\n",
    "optimal_portfolio_return= expected_return(optimal_weights,log_return)\n",
    "optimal_portfolio_volatility= standard_deviation(optimal_weights,cov_matrix)\n",
    "optimal_sharpe_ratio= sharpe_ratio(optimal_weights,log_return,cov_matrix,risk_free_rate)\n",
    "\n",
    "print(f\"Expected Annual Return : {optimal_portfolio_return: .4f}\")\n",
    "print(f\"Expected Volatility: {optimal_portfolio_volatility: .4f}\")\n",
    "print(f\"Sharpe Ratio : {optimal_sharpe_ratio: .4f}\")"
   ]
  },
  {
   "cell_type": "markdown",
   "metadata": {},
   "source": [
    "# Section 7:  Visualization "
   ]
  },
  {
   "cell_type": "code",
   "execution_count": 121,
   "metadata": {},
   "outputs": [
    {
     "data": {
      "image/png": "[encoded data removed]",
      "text/plain": [
       "<Figure size 1000x600 with 1 Axes>"
      ]
     },
     "metadata": {},
     "output_type": "display_data"
    }
   ],
   "source": [
    "#Displaying the final portfolio graphically \n",
    "\n",
    "\n",
    "#importing required liabrary\n",
    "import matplotlib.pyplot as plt \n",
    "\n",
    "#creating a vbar chart of optimal weights \n",
    "plt.figure(figsize=(10,6))\n",
    "plt.bar(tickers,optimal_weights)\n",
    "\n",
    "#Add labels and a title \n",
    "plt.xlabel('Assets')\n",
    "plt.ylabel('optimal weights')\n",
    "plt.title(\"Optimal Portfolio Weights\")\n",
    "\n",
    "#Display \n",
    "plt.show()\n",
    "\n",
    " \n"
   ]
  }
 ],
 "metadata": {
  "kernelspec": {
   "display_name": "base",
   "language": "python",
   "name": "python3"
  },
  "language_info": {
   "codemirror_mode": {
    "name": "ipython",
    "version": 3
   },
   "file_extension": ".py",
   "mimetype": "text/x-python",
   "name": "python",
   "nbconvert_exporter": "python",
   "pygments_lexer": "ipython3",
   "version": "3.12.7"
  }
 },
 "nbformat": 4,
 "nbformat_minor": 2
}
