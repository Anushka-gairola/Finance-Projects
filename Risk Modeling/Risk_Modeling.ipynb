{
 "cells": [
  {
   "cell_type": "markdown",
   "metadata": {},
   "source": [
    "\n",
    "\n",
    "# Value-at-Risk (VaR) Model\n"
   ]
  },
  {
   "cell_type": "code",
   "execution_count": 8,
   "metadata": {},
   "outputs": [],
   "source": [
    "\n",
    "import numpy as np\n",
    "import pandas as pd\n",
    "import datetime as dt\n",
    "import yfinance as yf\n",
    "from scipy.stats import norm\n",
    "import matplotlib.pyplot as plt\n",
    "\n",
    "plt.style.use('seaborn-v0_8')\n",
    "plt.rcParams['figure.figsize'] = (10, 6)\n",
    "\n"
   ]
  },
  {
   "cell_type": "code",
   "execution_count": 12,
   "metadata": {},
   "outputs": [
    {
     "name": "stderr",
     "output_type": "stream",
     "text": [
      "[                       0%                       ]"
     ]
    },
    {
     "name": "stdout",
     "output_type": "stream",
     "text": [
      "Downloading data from yfinance...\n"
     ]
    },
    {
     "name": "stderr",
     "output_type": "stream",
     "text": [
      "[*********************100%***********************]  4 of 4 completed\n"
     ]
    },
    {
     "name": "stdout",
     "output_type": "stream",
     "text": [
      "Data download complete.\n",
      "Data columns structure: MultiIndex([('Adj Close', 'BND'),\n",
      "            ('Adj Close', 'GLD'),\n",
      "            ('Adj Close', 'QQQ'),\n",
      "            ('Adj Close', 'VTI'),\n",
      "            (    'Close', 'BND'),\n",
      "            (    'Close', 'GLD'),\n",
      "            (    'Close', 'QQQ'),\n",
      "            (    'Close', 'VTI'),\n",
      "            (     'High', 'BND'),\n",
      "            (     'High', 'GLD'),\n",
      "            (     'High', 'QQQ'),\n",
      "            (     'High', 'VTI'),\n",
      "            (      'Low', 'BND'),\n",
      "            (      'Low', 'GLD'),\n",
      "            (      'Low', 'QQQ'),\n",
      "            (      'Low', 'VTI'),\n",
      "            (     'Open', 'BND'),\n",
      "            (     'Open', 'GLD'),\n",
      "            (     'Open', 'QQQ'),\n",
      "            (     'Open', 'VTI'),\n",
      "            (   'Volume', 'BND'),\n",
      "            (   'Volume', 'GLD'),\n",
      "            (   'Volume', 'QQQ'),\n",
      "            (   'Volume', 'VTI')],\n",
      "           names=['Price', 'Ticker'])\n",
      "Adjusted Close columns: ['BND', 'GLD', 'QQQ', 'VTI']\n",
      "Adjusted Close shape: (3769, 4)\n",
      "✓ Saved Raw Close and Adjusted Close prices to CSV files.\n"
     ]
    }
   ],
   "source": [
    "# Configuration\n",
    "\n",
    "tickers = ['VTI', 'QQQ', 'BND', 'GLD']\n",
    "years = 15\n",
    "end_date = dt.datetime.now()\n",
    "start_date = end_date - dt.timedelta(days=365*years)\n",
    "\n",
    "print(\"Downloading data from yfinance...\")\n",
    "# Download data with auto_adjust=False to get both Close and Adj Close\n",
    "data = yf.download(tickers, start=start_date, end=end_date, auto_adjust=False)\n",
    "print(\"Data download complete.\")\n",
    "print(\"Data columns structure:\", data.columns)\n",
    "\n",
    "# Extracting Adjusted Close prices from the MultiIndex\n",
    "adj_close = data['Adj Close'].copy()\n",
    "\n",
    "print(f\"Adjusted Close columns: {adj_close.columns.tolist()}\")\n",
    "\n",
    "print(f\"Adjusted Close shape: {adj_close.shape}\")\n",
    "\n",
    "# Save both to CSV\n",
    "adj_close.to_csv('adjusted_close_prices.csv')\n",
    "print(\"✓ Saved Raw Close and Adjusted Close prices to CSV files.\")"
   ]
  },
  {
   "cell_type": "code",
   "execution_count": 13,
   "metadata": {},
   "outputs": [
    {
     "name": "stdout",
     "output_type": "stream",
     "text": [
      "Price       Adj Close                                          Close  \\\n",
      "Ticker            BND         GLD         QQQ         VTI        BND   \n",
      "Date                                                                   \n",
      "2010-09-27  53.684692  126.720001   43.341492   44.811985  82.610001   \n",
      "2010-09-28  53.801659  127.849998   43.323944   45.065762  82.790001   \n",
      "2010-09-29  53.743191  127.949997   43.253750   44.988876  82.699997   \n",
      "2010-09-30  53.717213  127.910004   43.060680   44.888878  82.660004   \n",
      "2010-10-01  53.673557  128.910004   43.008030   45.088837  82.370003   \n",
      "...               ...         ...         ...         ...        ...   \n",
      "2025-09-15  74.709999  338.910004  591.679993  325.890015  74.709999   \n",
      "2025-09-16  74.720001  339.589996  591.179993  325.450012  74.720001   \n",
      "2025-09-17  74.589996  336.970001  590.000000  325.160004  74.589996   \n",
      "2025-09-18  74.400002  335.619995  595.320007  327.209991  74.400002   \n",
      "2025-09-19  74.430000  339.179993  599.349976  328.440002  74.430000   \n",
      "\n",
      "Price                                                High              ...  \\\n",
      "Ticker             GLD         QQQ         VTI        BND         GLD  ...   \n",
      "Date                                                                   ...   \n",
      "2010-09-27  126.720001   49.389999   58.270000  82.639999  126.910004  ...   \n",
      "2010-09-28  127.849998   49.369999   58.599998  82.830002  128.029999  ...   \n",
      "2010-09-29  127.949997   49.290001   58.500000  82.790001  128.240005  ...   \n",
      "2010-09-30  127.910004   49.070000   58.369999  82.699997  128.279999  ...   \n",
      "2010-10-01  128.910004   49.009998   58.630001  82.430000  129.070007  ...   \n",
      "...                ...         ...         ...        ...         ...  ...   \n",
      "2025-09-15  338.910004  591.679993  325.890015  74.730003  339.279999  ...   \n",
      "2025-09-16  339.589996  591.179993  325.450012  74.769997  340.880005  ...   \n",
      "2025-09-17  336.970001  590.000000  325.160004  74.919998  341.239990  ...   \n",
      "2025-09-18  335.619995  595.320007  327.209991  74.480003  336.320007  ...   \n",
      "2025-09-19  339.179993  599.349976  328.440002  74.449997  339.230011  ...   \n",
      "\n",
      "Price              Low                   Open                          \\\n",
      "Ticker             QQQ         VTI        BND         GLD         QQQ   \n",
      "Date                                                                    \n",
      "2010-09-27   49.349998   58.240002  82.449997  126.900002   49.630001   \n",
      "2010-09-28   48.590000   57.740002  82.610001  126.419998   49.509998   \n",
      "2010-09-29   49.110001   58.270000  82.779999  127.930000   49.299999   \n",
      "2010-09-30   48.750000   58.099998  82.639999  128.149994   49.540001   \n",
      "2010-10-01   48.779999   58.270000  82.389999  127.910004   49.480000   \n",
      "...                ...         ...        ...         ...         ...   \n",
      "2025-09-15  588.289978  325.209991  74.660004  336.309998  588.440002   \n",
      "2025-09-16  590.489990  324.920013  74.709999  340.089996  592.609985   \n",
      "2025-09-17  584.369995  322.769989  74.800003  338.529999  591.099976   \n",
      "2025-09-18  592.960022  325.920013  74.389999  336.220001  594.909973   \n",
      "2025-09-19  595.849976  326.829987  74.410004  336.510010  597.330017   \n",
      "\n",
      "Price                    Volume                                \n",
      "Ticker             VTI      BND       GLD        QQQ      VTI  \n",
      "Date                                                           \n",
      "2010-09-27   58.610001   785900   6679700   43859800  1903100  \n",
      "2010-09-28   58.340000   818200  19857200  104922900  3132100  \n",
      "2010-09-29   58.470001   430600  12328900   81679200  1842400  \n",
      "2010-09-30   58.869999   770400  19213400  122458600  2636800  \n",
      "2010-10-01   58.849998  1249200  17211900   77675400  3235500  \n",
      "...                ...      ...       ...        ...      ...  \n",
      "2025-09-15  325.470001  7193600  10569900   44360300  3200800  \n",
      "2025-09-16  326.309998  7012200  12161500   36942100  3709300  \n",
      "2025-09-17  325.660004  8872000  16535300   69384800  3643200  \n",
      "2025-09-18  326.929993  7641400  14913300   61069300  3112500  \n",
      "2025-09-19  328.309998  5295200  14923000   58142500  3608200  \n",
      "\n",
      "[3769 rows x 24 columns]\n"
     ]
    }
   ],
   "source": [
    "print(data)"
   ]
  },
  {
   "cell_type": "markdown",
   "metadata": {},
   "source": [
    "Calculating daily log returns and dropping Nan Values"
   ]
  },
  {
   "cell_type": "code",
   "execution_count": 15,
   "metadata": {},
   "outputs": [
    {
     "name": "stdout",
     "output_type": "stream",
     "text": [
      "Ticker           BND       GLD       QQQ       VTI\n",
      "Date                                              \n",
      "2010-09-28  0.002176  0.008878 -0.000405  0.005647\n",
      "2010-09-29 -0.001087  0.000782 -0.001622 -0.001708\n",
      "2010-09-30 -0.000483 -0.000313 -0.004474 -0.002225\n",
      "2010-10-01 -0.000813  0.007788 -0.001223  0.004445\n",
      "2010-10-04  0.002546 -0.003497 -0.010873 -0.008908\n",
      "...              ...       ...       ...       ...\n",
      "2025-09-15  0.001876  0.010351  0.008521  0.004860\n",
      "2025-09-16  0.000134  0.002004 -0.000845 -0.001351\n",
      "2025-09-17 -0.001741 -0.007745 -0.001998 -0.000891\n",
      "2025-09-18 -0.002550 -0.004014  0.008977  0.006285\n",
      "2025-09-19  0.000403  0.010551  0.006747  0.003752\n",
      "\n",
      "[3768 rows x 4 columns]\n"
     ]
    }
   ],
   "source": [
    "log_returns = np.log(adj_close/adj_close.shift(1))\n",
    "log_returns = log_returns.dropna()\n",
    "\n",
    "print(log_returns)"
   ]
  },
  {
   "cell_type": "markdown",
   "metadata": {},
   "source": [
    "Calculating equlaly weighted portfolio "
   ]
  },
  {
   "cell_type": "code",
   "execution_count": 20,
   "metadata": {},
   "outputs": [
    {
     "name": "stdout",
     "output_type": "stream",
     "text": [
      "[0.25 0.25 0.25 0.25]\n"
     ]
    }
   ],
   "source": [
    "portfolio_Value = 1000000\n",
    "weights = np.array([1/len(tickers)]*len(tickers))\n",
    "print(weights)"
   ]
  },
  {
   "cell_type": "markdown",
   "metadata": {},
   "source": [
    "Calculating historical portfoilio returns "
   ]
  },
  {
   "cell_type": "code",
   "execution_count": 22,
   "metadata": {},
   "outputs": [
    {
     "name": "stdout",
     "output_type": "stream",
     "text": [
      "Date\n",
      "2010-09-28    0.004074\n",
      "2010-09-29   -0.000909\n",
      "2010-09-30   -0.001874\n",
      "2010-10-01    0.002549\n",
      "2010-10-04   -0.005183\n",
      "                ...   \n",
      "2025-09-15    0.006402\n",
      "2025-09-16   -0.000015\n",
      "2025-09-17   -0.003094\n",
      "2025-09-18    0.002174\n",
      "2025-09-19    0.005363\n",
      "Length: 3768, dtype: float64\n"
     ]
    }
   ],
   "source": [
    "\n",
    "historical_returns = (log_returns * weights).sum(axis=1)\n",
    "print(historical_returns)\n"
   ]
  },
  {
   "cell_type": "markdown",
   "metadata": {},
   "source": [
    "Findind X day historical returns \n"
   ]
  },
  {
   "cell_type": "code",
   "execution_count": 23,
   "metadata": {},
   "outputs": [
    {
     "name": "stdout",
     "output_type": "stream",
     "text": [
      "Date\n",
      "2010-10-04   -0.001342\n",
      "2010-10-05    0.010684\n",
      "2010-10-06    0.011300\n",
      "2010-10-07    0.011425\n",
      "2010-10-08    0.014434\n",
      "                ...   \n",
      "2025-09-15    0.013292\n",
      "2025-09-16    0.013289\n",
      "2025-09-17    0.008143\n",
      "2025-09-18    0.006398\n",
      "2025-09-19    0.010831\n",
      "Length: 3764, dtype: float64\n"
     ]
    }
   ],
   "source": [
    "days = 5 \n",
    "range_returns = historical_returns.rolling(window=days).sum()\n",
    "range_returns = range_returns.dropna()\n",
    "print(range_returns)"
   ]
  },
  {
   "cell_type": "markdown",
   "metadata": {},
   "source": [
    "Specifying confidence level and calulating VAR using historical method "
   ]
  },
  {
   "cell_type": "code",
   "execution_count": 49,
   "metadata": {},
   "outputs": [
    {
     "name": "stdout",
     "output_type": "stream",
     "text": [
      "\n",
      "==================================================\n",
      "VALUE-AT-RISK (VaR) RESULTS\n",
      "==================================================\n",
      "Confidence Level: 0.95%\n",
      "5-Day VaR (Return): -2.1164%\n",
      "5-Day VaR ($): -$21,163.52\n",
      "==================================================\n"
     ]
    }
   ],
   "source": [
    "confidence_level= 0.95\n",
    "VaR = np.percentile(range_returns, (1 - confidence_level) * 100) * portfolio_Value\n",
    "\n",
    "\n",
    "print(\"\\n\" + \"=\"*50)\n",
    "print(\"VALUE-AT-RISK (VaR) RESULTS\")\n",
    "print(\"=\"*50)\n",
    "print(f\"Confidence Level: {confidence_level}%\")\n",
    "print(f\"{days}-Day VaR (Return): {VaR/portfolio_Value:.4%}\")  # Convert back to return\n",
    "print(f\"{days}-Day VaR ($): -${abs(VaR):,.2f}\")\n",
    "print(\"=\"*50)\n"
   ]
  },
  {
   "cell_type": "markdown",
   "metadata": {},
   "source": [
    "# Convert to dollar amounts"
   ]
  },
  {
   "cell_type": "code",
   "execution_count": 43,
   "metadata": {},
   "outputs": [],
   "source": [
    "range_returns_dollar = range_returns * portfolio_Value"
   ]
  },
  {
   "cell_type": "markdown",
   "metadata": {},
   "source": [
    "# Create the histogram"
   ]
  },
  {
   "cell_type": "code",
   "execution_count": 44,
   "metadata": {},
   "outputs": [
    {
     "data": {
      "image/png": "[encoded data removed]",
      "text/plain": [
       "<Figure size 1200x600 with 1 Axes>"
      ]
     },
     "metadata": {},
     "output_type": "display_data"
    },
    {
     "name": "stdout",
     "output_type": "stream",
     "text": [
      "\n",
      "Additional Statistics for 5-Day Returns:\n",
      "Mean P&L: $1,960.21\n",
      "Median P&L: $2,931.98\n",
      "Minimum P&L: $-133,109.90\n",
      "Maximum P&L: $87,406.72\n",
      "Number of observations: 3764\n"
     ]
    }
   ],
   "source": [
    "\n",
    "plt.figure(figsize=(12, 6))\n",
    "plt.hist(range_returns_dollar, bins=50, edgecolor='black', alpha=0.7, label=f'{days}-Day P&L Distribution')\n",
    "\n",
    "# Add VaR line\n",
    "plt.axvline(VaR, color='red', linestyle='--', linewidth=2, label=f'95% VaR (-${abs(VaR):,.0f})')\n",
    "\n",
    "# Add zero line\n",
    "plt.axvline(0, color='black', linestyle='-', linewidth=1)\n",
    "\n",
    "# Add labels and title\n",
    "plt.xlabel(f'{days}-Day Profit / Loss ($)')\n",
    "plt.ylabel('Frequency')\n",
    "plt.title(f'Distribution of {days}-Day Portfolio P&L for a ${portfolio_Value:,.0f} Portfolio')\n",
    "plt.legend()\n",
    "plt.grid(True, alpha=0.3)\n",
    "\n",
    "# Adding some statistics to the plot\n",
    "mean_return = range_returns_dollar.mean()\n",
    "median_return = range_returns_dollar.median()\n",
    "plt.axvline(mean_return, color='green', linestyle=':', label=f'Mean (${mean_return:,.0f})')\n",
    "plt.axvline(median_return, color='blue', linestyle=':', label=f'Median (${median_return:,.0f})')\n",
    "\n",
    "plt.legend()\n",
    "plt.tight_layout()\n",
    "plt.show()\n",
    "\n",
    "# ADDITIONAL ANALYSIS \n",
    "print(f\"\\nAdditional Statistics for {days}-Day Returns:\")\n",
    "print(f\"Mean P&L: ${mean_return:,.2f}\")\n",
    "print(f\"Median P&L: ${median_return:,.2f}\")\n",
    "print(f\"Minimum P&L: ${range_returns_dollar.min():,.2f}\")\n",
    "print(f\"Maximum P&L: ${range_returns_dollar.max():,.2f}\")\n",
    "print(f\"Number of observations: {len(range_returns_dollar)}\")"
   ]
  },
  {
   "cell_type": "markdown",
   "metadata": {},
   "source": [
    "## Calculating Parametric VAR "
   ]
  },
  {
   "cell_type": "code",
   "execution_count": 46,
   "metadata": {},
   "outputs": [
    {
     "name": "stdout",
     "output_type": "stream",
     "text": [
      "\n",
      "============================================================\n",
      "PARAMETRIC (Variance-Covariance) VaR RESULTS\n",
      "============================================================\n",
      "Portfolio Annualized Volatility: 10.61%\n",
      "1-Day Parametric VaR (95% CI): -1.0992%\n",
      "1-Day Parametric VaR ($): -$10,991.87\n",
      "============================================================\n"
     ]
    }
   ],
   "source": [
    "\n",
    "\n",
    "# 1. Calculate the covariance matrix of the returns\n",
    "cov_matrix = log_returns.cov()\n",
    "\n",
    "# 2. Calculate portfolio volatility (standard deviation)\n",
    "# This formula: sqrt(weights.T * CovarianceMatrix * weights)\n",
    "portfolio_volatility = np.sqrt(np.dot(weights.T, np.dot(cov_matrix, weights)))\n",
    "\n",
    "# 3. Define confidence level and get the Z-score (for 95% CI, it's ~1.645)\n",
    "confidence_level = 0.95\n",
    "z_score = norm.ppf(1 - confidence_level) # This gives -1.645\n",
    "\n",
    "# 4. Calculate Parametric VaR\n",
    "parametric_var = portfolio_volatility * z_score\n",
    "parametric_var_dollars = parametric_var * portfolio_Value\n",
    "\n",
    "print(\"\\n\" + \"=\"*60)\n",
    "print(\"PARAMETRIC (Variance-Covariance) VaR RESULTS\")\n",
    "print(\"=\"*60)\n",
    "print(f\"Portfolio Annualized Volatility: {portfolio_volatility * np.sqrt(252):.2%}\")\n",
    "print(f\"1-Day Parametric VaR ({confidence_level:.0%} CI): {parametric_var:.4%}\")\n",
    "print(f\"1-Day Parametric VaR ($): -${abs(parametric_var_dollars):,.2f}\")\n",
    "print(\"=\"*60)"
   ]
  },
  {
   "cell_type": "markdown",
   "metadata": {},
   "source": [
    "## Backtesting the VAR Model "
   ]
  },
  {
   "cell_type": "code",
   "execution_count": 47,
   "metadata": {},
   "outputs": [
    {
     "name": "stdout",
     "output_type": "stream",
     "text": [
      "\n",
      "BACKTEST RESULTS (Historical VaR Model)\n",
      "----------------------------------------\n",
      "Number of days where loss exceeded VaR: 189 / 3764\n",
      "Exception Rate: 5.02%\n",
      "Expected Exception Rate (for 95% VaR): 5.00%\n",
      "✅ Model is accurate.\n"
     ]
    }
   ],
   "source": [
    "\n",
    "# How many times did the actual loss exceed the predicted VaR?\n",
    "\n",
    "# Using the historical VaR as our prediction for each day\n",
    "var_prediction = VaR\n",
    "\n",
    "# Calculating the actual portfolio P&L for each day\n",
    "actual_pnl = range_returns * portfolio_Value\n",
    "\n",
    "# Count the exceptions (days where loss was greater than VaR prediction)\n",
    "exceptions = actual_pnl < var_prediction\n",
    "number_of_exceptions = exceptions.sum()\n",
    "total_days = len(actual_pnl)\n",
    "exception_rate = number_of_exceptions / total_days\n",
    "\n",
    "print(\"\\nBACKTEST RESULTS (Historical VaR Model)\")\n",
    "print(\"----------------------------------------\")\n",
    "print(f\"Number of days where loss exceeded VaR: {number_of_exceptions} / {total_days}\")\n",
    "print(f\"Exception Rate: {exception_rate:.2%}\")\n",
    "print(f\"Expected Exception Rate (for 95% VaR): {1-confidence_level:.2%}\")\n",
    "\n",
    "if abs(exception_rate - (1-confidence_level)) < 0.01:\n",
    "    print(\"✅ Model is accurate.\")\n",
    "elif exception_rate > (1-confidence_level):\n",
    "    print(\"⚠️ Model UNDERESTIMATES risk (too many exceptions).\")\n",
    "else:\n",
    "    print(\"⚠️ Model OVERESTIMATES risk (too few exceptions).\")"
   ]
  }
 ],
 "metadata": {
  "kernelspec": {
   "display_name": "base",
   "language": "python",
   "name": "python3"
  },
  "language_info": {
   "codemirror_mode": {
    "name": "ipython",
    "version": 3
   },
   "file_extension": ".py",
   "mimetype": "text/x-python",
   "name": "python",
   "nbconvert_exporter": "python",
   "pygments_lexer": "ipython3",
   "version": "3.12.2"
  }
 },
 "nbformat": 4,
 "nbformat_minor": 2
}
